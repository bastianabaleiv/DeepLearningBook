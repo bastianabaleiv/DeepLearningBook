{
  "nbformat": 4,
  "nbformat_minor": 0,
  "metadata": {
    "colab": {
      "name": "A1_01_matrices.ipynb",
      "provenance": [],
      "collapsed_sections": [],
      "include_colab_link": true
    },
    "kernelspec": {
      "name": "ir",
      "display_name": "R"
    }
  },
  "cells": [
    {
      "cell_type": "markdown",
      "metadata": {
        "id": "view-in-github",
        "colab_type": "text"
      },
      "source": [
        "<a href=\"https://colab.research.google.com/github/bastianabaleiv/DeepLearningBook/blob/master/Ayudant%C3%ADas/Ayudant%C3%ADa1/A1_01_matrices.ipynb\" target=\"_parent\"><img src=\"https://colab.research.google.com/assets/colab-badge.svg\" alt=\"Open In Colab\"/></a>"
      ]
    },
    {
      "cell_type": "markdown",
      "metadata": {
        "collapsed": true,
        "id": "qGvtNqVzSqoX"
      },
      "source": [
        "# **Ayudantía 1**\n",
        "\n",
        "**Ayudante:** Bastián Aballay Leiva<br>\n",
        "**E-mail ayudante:** bastian.aballayleiva@gmail.com\n",
        "\n",
        "## **1 Introducción: Matrices**\n",
        "\n",
        "\n",
        "En R, así como en otros lenguajes de programación, una matriz es básicamente un arreglo bi-dimensional, donde las entradas horizontales se entienden como filas y las verticales como columnas (i,j). Es posible imaginar una matriz como un arreglo de vectores como columnas (o filas) del mismo largo.\n",
        "\n",
        " * ¿Qué se guarda en una matriz?<br>\n",
        "    Sólo datos de un mismo tipo. \n",
        "     \n",
        " * ¿Cómo se declara una matriz?<br>\n",
        "    Se puede definir de varias maneras, indicando los elementos que la componen, o combinando vectores como filas o columnas.\n",
        " \n",
        " * ¿Cómo se accede a sus elementos?<br>\n",
        "    Indicando la posición del vector fila, seguido de la posición del vector columna (como es usual)."
      ]
    },
    {
      "cell_type": "code",
      "metadata": {
        "trusted": true,
        "id": "TKVO3cuZSqoY",
        "outputId": "d2f056ba-3317-49f8-ce58-67cd6a55bd03",
        "colab": {
          "base_uri": "https://localhost:8080/",
          "height": 149
        }
      },
      "source": [
        "# 1 Matrices ------------\n",
        "# ?matrix \n",
        "# Creamos un matriz de dos filas y 3 columnas, parametros ncol, nrow y byrow\n",
        "# recibe un vector de elementos\n",
        "M1 <- matrix(data = c(1,2,3,4,5,6), ncol = 3, nrow = 2)\n",
        "M1\n"
      ],
      "execution_count": 4,
      "outputs": [
        {
          "output_type": "display_data",
          "data": {
            "text/plain": [
              "     [,1] [,2] [,3]\n",
              "[1,] 1    3    5   \n",
              "[2,] 2    4    6   "
            ],
            "text/latex": "A matrix: 2 × 3 of type dbl\n\\begin{tabular}{lll}\n\t 1 & 3 & 5\\\\\n\t 2 & 4 & 6\\\\\n\\end{tabular}\n",
            "text/markdown": "\nA matrix: 2 × 3 of type dbl\n\n| 1 | 3 | 5 |\n| 2 | 4 | 6 |\n\n",
            "text/html": [
              "<table>\n",
              "<caption>A matrix: 2 × 3 of type dbl</caption>\n",
              "<tbody>\n",
              "\t<tr><td>1</td><td>3</td><td>5</td></tr>\n",
              "\t<tr><td>2</td><td>4</td><td>6</td></tr>\n",
              "</tbody>\n",
              "</table>\n"
            ]
          },
          "metadata": {
            "tags": []
          }
        }
      ]
    },
    {
      "cell_type": "code",
      "metadata": {
        "id": "zwR_zVJ3UzlI"
      },
      "source": [
        "?matrix"
      ],
      "execution_count": 3,
      "outputs": []
    },
    {
      "cell_type": "code",
      "metadata": {
        "id": "V4_m1w19X9Tj",
        "outputId": "c64aa7f9-9599-4826-ff2b-2152b3777b59",
        "colab": {
          "base_uri": "https://localhost:8080/",
          "height": 149
        }
      },
      "source": [
        "\n",
        "M2 <- matrix(c(1,2,3,4,5,6), ncol = 3, nrow = 2, byrow = TRUE)\n",
        "M2\n",
        "\n",
        "# dbl:= double o número decimal\n"
      ],
      "execution_count": 14,
      "outputs": [
        {
          "output_type": "display_data",
          "data": {
            "text/plain": [
              "     [,1] [,2] [,3]\n",
              "[1,] 1    2    3   \n",
              "[2,] 4    5    6   "
            ],
            "text/latex": "A matrix: 2 × 3 of type dbl\n\\begin{tabular}{lll}\n\t 1 & 2 & 3\\\\\n\t 4 & 5 & 6\\\\\n\\end{tabular}\n",
            "text/markdown": "\nA matrix: 2 × 3 of type dbl\n\n| 1 | 2 | 3 |\n| 4 | 5 | 6 |\n\n",
            "text/html": [
              "<table>\n",
              "<caption>A matrix: 2 × 3 of type dbl</caption>\n",
              "<tbody>\n",
              "\t<tr><td>1</td><td>2</td><td>3</td></tr>\n",
              "\t<tr><td>4</td><td>5</td><td>6</td></tr>\n",
              "</tbody>\n",
              "</table>\n"
            ]
          },
          "metadata": {
            "tags": []
          }
        }
      ]
    },
    {
      "cell_type": "code",
      "metadata": {
        "id": "VtW4HPG_W3zV",
        "outputId": "6d578c69-de8e-41cb-85eb-a43b8aeae39d",
        "colab": {
          "base_uri": "https://localhost:8080/",
          "height": 34
        }
      },
      "source": [
        "M2[2,3]"
      ],
      "execution_count": 16,
      "outputs": [
        {
          "output_type": "display_data",
          "data": {
            "text/plain": [
              "[1] 6"
            ],
            "text/latex": "6",
            "text/markdown": "6",
            "text/html": [
              "6"
            ]
          },
          "metadata": {
            "tags": []
          }
        }
      ]
    },
    {
      "cell_type": "markdown",
      "metadata": {
        "id": "Z3dxcx5276Zu"
      },
      "source": [
        "Podemos generar una matriz, combinando vectores como filas o columnas. Para ello podemos contar con las funciones rbind() y cbind()\n"
      ]
    },
    {
      "cell_type": "code",
      "metadata": {
        "id": "Z-JHIXH1VlHd",
        "outputId": "6e624fdf-2cb2-46f1-f7a2-41f84088f473",
        "colab": {
          "base_uri": "https://localhost:8080/",
          "height": 34
        }
      },
      "source": [
        "f1 <- c(1,4,5,9)\n",
        "f2 <- c(1,1,1,1)\n",
        "f3 <- c(2,2,4,5)\n",
        "\n",
        "f1\n",
        "#f2\n",
        "#f3"
      ],
      "execution_count": 2,
      "outputs": [
        {
          "output_type": "display_data",
          "data": {
            "text/plain": [
              "[1] 1 4 5 9"
            ],
            "text/latex": "\\begin{enumerate*}\n\\item 1\n\\item 4\n\\item 5\n\\item 9\n\\end{enumerate*}\n",
            "text/markdown": "1. 1\n2. 4\n3. 5\n4. 9\n\n\n",
            "text/html": [
              "<style>\n",
              ".list-inline {list-style: none; margin:0; padding: 0}\n",
              ".list-inline>li {display: inline-block}\n",
              ".list-inline>li:not(:last-child)::after {content: \"\\00b7\"; padding: 0 .5ex}\n",
              "</style>\n",
              "<ol class=list-inline><li>1</li><li>4</li><li>5</li><li>9</li></ol>\n"
            ]
          },
          "metadata": {
            "tags": []
          }
        }
      ]
    },
    {
      "cell_type": "code",
      "metadata": {
        "trusted": true,
        "id": "2TXNSoedSqoh",
        "outputId": "cb90717a-21f0-4de9-cbcc-35b6ad3d9627",
        "colab": {
          "base_uri": "https://localhost:8080/",
          "height": 135
        }
      },
      "source": [
        "# row bind\n",
        "M <- rbind(f1,f2,f3)\n",
        "\n",
        "M\n",
        "# NOTA: M hereda los nombres de las variables que conforman las filas como nombre de fila.\n"
      ],
      "execution_count": 9,
      "outputs": [
        {
          "output_type": "display_data",
          "data": {
            "text/plain": [
              "   [,1] [,2] [,3] [,4]\n",
              "f1 1    4    5    9   \n",
              "f2 1    1    1    1   \n",
              "f3 2    2    4    5   "
            ],
            "text/latex": "A matrix: 3 × 4 of type dbl\n\\begin{tabular}{r|llll}\n\tf1 & 1 & 4 & 5 & 9\\\\\n\tf2 & 1 & 1 & 1 & 1\\\\\n\tf3 & 2 & 2 & 4 & 5\\\\\n\\end{tabular}\n",
            "text/markdown": "\nA matrix: 3 × 4 of type dbl\n\n| f1 | 1 | 4 | 5 | 9 |\n| f2 | 1 | 1 | 1 | 1 |\n| f3 | 2 | 2 | 4 | 5 |\n\n",
            "text/html": [
              "<table>\n",
              "<caption>A matrix: 3 × 4 of type dbl</caption>\n",
              "<tbody>\n",
              "\t<tr><th scope=row>f1</th><td>1</td><td>4</td><td>5</td><td>9</td></tr>\n",
              "\t<tr><th scope=row>f2</th><td>1</td><td>1</td><td>1</td><td>1</td></tr>\n",
              "\t<tr><th scope=row>f3</th><td>2</td><td>2</td><td>4</td><td>5</td></tr>\n",
              "</tbody>\n",
              "</table>\n"
            ]
          },
          "metadata": {
            "tags": []
          }
        }
      ]
    },
    {
      "cell_type": "code",
      "metadata": {
        "id": "5qFja8GpWVsV",
        "outputId": "4ac6caec-7a50-48fe-daf5-3446609c29f1",
        "colab": {
          "base_uri": "https://localhost:8080/",
          "height": 34
        }
      },
      "source": [
        "#M"
      ],
      "execution_count": 10,
      "outputs": [
        {
          "output_type": "display_data",
          "data": {
            "text/plain": [
              "[1] 1 1 4 1"
            ],
            "text/latex": "\\begin{enumerate*}\n\\item 1\n\\item 1\n\\item 4\n\\item 1\n\\end{enumerate*}\n",
            "text/markdown": "1. 1\n2. 1\n3. 4\n4. 1\n\n\n",
            "text/html": [
              "<style>\n",
              ".list-inline {list-style: none; margin:0; padding: 0}\n",
              ".list-inline>li {display: inline-block}\n",
              ".list-inline>li:not(:last-child)::after {content: \"\\00b7\"; padding: 0 .5ex}\n",
              "</style>\n",
              "<ol class=list-inline><li>1</li><li>1</li><li>4</li><li>1</li></ol>\n"
            ]
          },
          "metadata": {
            "tags": []
          }
        }
      ]
    },
    {
      "cell_type": "markdown",
      "metadata": {
        "id": "s2Ahk5iK9QZR"
      },
      "source": [
        "## **1.2 Acceso a los elementos de una matriz**\n",
        "En general contamos con opciones de acceso similares a las de un vector, a saber:\n",
        "* Acceso por posición (fila \"i\", columna \"j\")\n",
        "* Acceso por nombre (de fila o columna)\n",
        "* Acceso mediante matriz de indicatrices lógicas\n",
        "\n",
        "### **Acceso por posición**\n",
        "Accedemos mediante `[]`, indicando el número de fila y de columna del dato al que buscamos acceder. Por ejemplo, `M[2,3]` retorna el elemento en posición (2,3), que en nuestro caso es 1.\n",
        "\n",
        "\n",
        "\n",
        "\n",
        "\n"
      ]
    },
    {
      "cell_type": "code",
      "metadata": {
        "id": "_74PI_xNWoEg",
        "outputId": "10dfe4f7-b1cf-4c75-cdbc-f71c54923853",
        "colab": {
          "base_uri": "https://localhost:8080/",
          "height": 135
        }
      },
      "source": [
        "M"
      ],
      "execution_count": 11,
      "outputs": [
        {
          "output_type": "display_data",
          "data": {
            "text/plain": [
              "   [,1] [,2] [,3] [,4]\n",
              "f1 1    4    5    9   \n",
              "f2 1    1    1    1   \n",
              "f3 2    2    4    5   "
            ],
            "text/latex": "A matrix: 3 × 4 of type dbl\n\\begin{tabular}{r|llll}\n\tf1 & 1 & 4 & 5 & 9\\\\\n\tf2 & 1 & 1 & 1 & 1\\\\\n\tf3 & 2 & 2 & 4 & 5\\\\\n\\end{tabular}\n",
            "text/markdown": "\nA matrix: 3 × 4 of type dbl\n\n| f1 | 1 | 4 | 5 | 9 |\n| f2 | 1 | 1 | 1 | 1 |\n| f3 | 2 | 2 | 4 | 5 |\n\n",
            "text/html": [
              "<table>\n",
              "<caption>A matrix: 3 × 4 of type dbl</caption>\n",
              "<tbody>\n",
              "\t<tr><th scope=row>f1</th><td>1</td><td>4</td><td>5</td><td>9</td></tr>\n",
              "\t<tr><th scope=row>f2</th><td>1</td><td>1</td><td>1</td><td>1</td></tr>\n",
              "\t<tr><th scope=row>f3</th><td>2</td><td>2</td><td>4</td><td>5</td></tr>\n",
              "</tbody>\n",
              "</table>\n"
            ]
          },
          "metadata": {
            "tags": []
          }
        }
      ]
    },
    {
      "cell_type": "code",
      "metadata": {
        "trusted": true,
        "id": "xIfUV82ASqot",
        "outputId": "3c3bab3e-1880-4090-b7c6-563f4cc71a39",
        "colab": {
          "base_uri": "https://localhost:8080/",
          "height": 34
        }
      },
      "source": [
        "# Fila 2, columna 3\n",
        "M[2,3]"
      ],
      "execution_count": 12,
      "outputs": [
        {
          "output_type": "display_data",
          "data": {
            "text/plain": [
              "f2 \n",
              " 1 "
            ],
            "text/latex": "\\textbf{f2:} 1",
            "text/markdown": "**f2:** 1",
            "text/html": [
              "<strong>f2:</strong> 1"
            ]
          },
          "metadata": {
            "tags": []
          }
        }
      ]
    },
    {
      "cell_type": "code",
      "metadata": {
        "id": "B3PuGpPwWww6",
        "outputId": "02ef53b8-c4fe-4eb7-ab15-884aba1be11d",
        "colab": {
          "base_uri": "https://localhost:8080/",
          "height": 34
        }
      },
      "source": [
        "M[1,4]"
      ],
      "execution_count": 13,
      "outputs": [
        {
          "output_type": "display_data",
          "data": {
            "text/plain": [
              "f1 \n",
              " 9 "
            ],
            "text/latex": "\\textbf{f1:} 9",
            "text/markdown": "**f1:** 9",
            "text/html": [
              "<strong>f1:</strong> 9"
            ]
          },
          "metadata": {
            "tags": []
          }
        }
      ]
    },
    {
      "cell_type": "markdown",
      "metadata": {
        "id": "taLQQrWZ-zye"
      },
      "source": [
        "También podemos rescatar una fila o columna completa, indicando el número de esta en la posición correspondiente. Por ejemplo, `M[2,]` retorna la segunda fila, mientras que `M[,1]` retorna la primera columna.\n",
        "\n",
        "\n",
        "\n",
        "\n"
      ]
    },
    {
      "cell_type": "code",
      "metadata": {
        "trusted": true,
        "id": "0irI-CBJSqou",
        "outputId": "f31f7677-5744-41d5-b5c4-d9ec06ae09ee",
        "colab": {
          "base_uri": "https://localhost:8080/",
          "height": 34
        }
      },
      "source": [
        "M[2,]"
      ],
      "execution_count": 17,
      "outputs": [
        {
          "output_type": "display_data",
          "data": {
            "text/plain": [
              "[1] 1 1 1 1"
            ],
            "text/latex": "\\begin{enumerate*}\n\\item 1\n\\item 1\n\\item 1\n\\item 1\n\\end{enumerate*}\n",
            "text/markdown": "1. 1\n2. 1\n3. 1\n4. 1\n\n\n",
            "text/html": [
              "<style>\n",
              ".list-inline {list-style: none; margin:0; padding: 0}\n",
              ".list-inline>li {display: inline-block}\n",
              ".list-inline>li:not(:last-child)::after {content: \"\\00b7\"; padding: 0 .5ex}\n",
              "</style>\n",
              "<ol class=list-inline><li>1</li><li>1</li><li>1</li><li>1</li></ol>\n"
            ]
          },
          "metadata": {
            "tags": []
          }
        }
      ]
    },
    {
      "cell_type": "code",
      "metadata": {
        "id": "LNZImAh6_6dv",
        "outputId": "bc048520-4f9a-4536-b23b-147f382cc843",
        "colab": {
          "base_uri": "https://localhost:8080/",
          "height": 34
        }
      },
      "source": [
        "M[,3]"
      ],
      "execution_count": 18,
      "outputs": [
        {
          "output_type": "display_data",
          "data": {
            "text/plain": [
              "f1 f2 f3 \n",
              " 5  1  4 "
            ],
            "text/latex": "\\begin{description*}\n\\item[f1] 5\n\\item[f2] 1\n\\item[f3] 4\n\\end{description*}\n",
            "text/markdown": "f1\n:   5f2\n:   1f3\n:   4\n\n",
            "text/html": [
              "<style>\n",
              ".dl-inline {width: auto; margin:0; padding: 0}\n",
              ".dl-inline>dt, .dl-inline>dd {float: none; width: auto; display: inline-block}\n",
              ".dl-inline>dt::after {content: \":\\0020\"; padding-right: .5ex}\n",
              ".dl-inline>dt:not(:first-of-type) {padding-left: .5ex}\n",
              "</style><dl class=dl-inline><dt>f1</dt><dd>5</dd><dt>f2</dt><dd>1</dd><dt>f3</dt><dd>4</dd></dl>\n"
            ]
          },
          "metadata": {
            "tags": []
          }
        }
      ]
    },
    {
      "cell_type": "markdown",
      "metadata": {
        "id": "AqZ8bhfrABel"
      },
      "source": [
        "### **Acceso por nombre**\n",
        "Podemos rescatar una fila o columna mediante su nombre. Para ello considermos la misma matriz M con nombres en las filas y columnas.\n",
        "\n",
        "\n",
        "\n",
        "\n",
        "\n",
        "\n",
        "\n"
      ]
    },
    {
      "cell_type": "code",
      "metadata": {
        "trusted": true,
        "id": "m4DDikCTSqo2",
        "outputId": "80b8fbf4-5fa5-4e6c-f584-f8fdf810070d",
        "colab": {
          "base_uri": "https://localhost:8080/",
          "height": 139
        }
      },
      "source": [
        "# los nombres de las columnas los podemos modificar con la función colnames()\n",
        "colnames(M) <- c(\"c1\",\"c2\",\"c3\",\"c4\")\n",
        "M\n",
        "\n"
      ],
      "execution_count": 20,
      "outputs": [
        {
          "output_type": "display_data",
          "data": {
            "text/plain": [
              "   c1 c2 c3 c4\n",
              "f1 1  4  5  9 \n",
              "f2 1  1  1  1 \n",
              "f3 2  2  4  5 "
            ],
            "text/latex": "A matrix: 3 × 4 of type dbl\n\\begin{tabular}{r|llll}\n  & c1 & c2 & c3 & c4\\\\\n\\hline\n\tf1 & 1 & 4 & 5 & 9\\\\\n\tf2 & 1 & 1 & 1 & 1\\\\\n\tf3 & 2 & 2 & 4 & 5\\\\\n\\end{tabular}\n",
            "text/markdown": "\nA matrix: 3 × 4 of type dbl\n\n| <!--/--> | c1 | c2 | c3 | c4 |\n|---|---|---|---|---|\n| f1 | 1 | 4 | 5 | 9 |\n| f2 | 1 | 1 | 1 | 1 |\n| f3 | 2 | 2 | 4 | 5 |\n\n",
            "text/html": [
              "<table>\n",
              "<caption>A matrix: 3 × 4 of type dbl</caption>\n",
              "<thead>\n",
              "\t<tr><th></th><th scope=col>c1</th><th scope=col>c2</th><th scope=col>c3</th><th scope=col>c4</th></tr>\n",
              "</thead>\n",
              "<tbody>\n",
              "\t<tr><th scope=row>f1</th><td>1</td><td>4</td><td>5</td><td>9</td></tr>\n",
              "\t<tr><th scope=row>f2</th><td>1</td><td>1</td><td>1</td><td>1</td></tr>\n",
              "\t<tr><th scope=row>f3</th><td>2</td><td>2</td><td>4</td><td>5</td></tr>\n",
              "</tbody>\n",
              "</table>\n"
            ]
          },
          "metadata": {
            "tags": []
          }
        }
      ]
    },
    {
      "cell_type": "markdown",
      "metadata": {
        "id": "R6KUhkiOPcq7"
      },
      "source": [
        "Ahora podemos acceder, por ejemplo, a la fila \"f3\" y a la columna \"c2\", o al elemento en dicha posición.\n"
      ]
    },
    {
      "cell_type": "code",
      "metadata": {
        "id": "R-qL-_NXPpbd",
        "outputId": "265e95ee-8974-4754-c386-9210d08f30c5",
        "colab": {
          "base_uri": "https://localhost:8080/",
          "height": 34
        }
      },
      "source": [
        "# Fila f3\n",
        "M[\"f3\",]\n"
      ],
      "execution_count": 21,
      "outputs": [
        {
          "output_type": "display_data",
          "data": {
            "text/plain": [
              "c1 c2 c3 c4 \n",
              " 2  2  4  5 "
            ],
            "text/latex": "\\begin{description*}\n\\item[c1] 2\n\\item[c2] 2\n\\item[c3] 4\n\\item[c4] 5\n\\end{description*}\n",
            "text/markdown": "c1\n:   2c2\n:   2c3\n:   4c4\n:   5\n\n",
            "text/html": [
              "<style>\n",
              ".dl-inline {width: auto; margin:0; padding: 0}\n",
              ".dl-inline>dt, .dl-inline>dd {float: none; width: auto; display: inline-block}\n",
              ".dl-inline>dt::after {content: \":\\0020\"; padding-right: .5ex}\n",
              ".dl-inline>dt:not(:first-of-type) {padding-left: .5ex}\n",
              "</style><dl class=dl-inline><dt>c1</dt><dd>2</dd><dt>c2</dt><dd>2</dd><dt>c3</dt><dd>4</dd><dt>c4</dt><dd>5</dd></dl>\n"
            ]
          },
          "metadata": {
            "tags": []
          }
        }
      ]
    },
    {
      "cell_type": "code",
      "metadata": {
        "id": "Hkxkwv6MPvDA",
        "outputId": "3132bff7-f373-4c99-fbb9-07997de821b6",
        "colab": {
          "base_uri": "https://localhost:8080/",
          "height": 34
        }
      },
      "source": [
        "# Columna c2\n",
        "M[,\"c2\"]"
      ],
      "execution_count": 22,
      "outputs": [
        {
          "output_type": "display_data",
          "data": {
            "text/plain": [
              "f1 f2 f3 \n",
              " 4  1  2 "
            ],
            "text/latex": "\\begin{description*}\n\\item[f1] 4\n\\item[f2] 1\n\\item[f3] 2\n\\end{description*}\n",
            "text/markdown": "f1\n:   4f2\n:   1f3\n:   2\n\n",
            "text/html": [
              "<style>\n",
              ".dl-inline {width: auto; margin:0; padding: 0}\n",
              ".dl-inline>dt, .dl-inline>dd {float: none; width: auto; display: inline-block}\n",
              ".dl-inline>dt::after {content: \":\\0020\"; padding-right: .5ex}\n",
              ".dl-inline>dt:not(:first-of-type) {padding-left: .5ex}\n",
              "</style><dl class=dl-inline><dt>f1</dt><dd>4</dd><dt>f2</dt><dd>1</dd><dt>f3</dt><dd>2</dd></dl>\n"
            ]
          },
          "metadata": {
            "tags": []
          }
        }
      ]
    },
    {
      "cell_type": "code",
      "metadata": {
        "id": "gMCkXTeUP98F",
        "outputId": "fc8d6364-d665-4914-89bd-ded1506c5614",
        "colab": {
          "base_uri": "https://localhost:8080/",
          "height": 34
        }
      },
      "source": [
        "# Elemento de la fila 3 y columna 2\n",
        "M[\"f3\",\"c2\"]"
      ],
      "execution_count": 23,
      "outputs": [
        {
          "output_type": "display_data",
          "data": {
            "text/plain": [
              "[1] 2"
            ],
            "text/latex": "2",
            "text/markdown": "2",
            "text/html": [
              "2"
            ]
          },
          "metadata": {
            "tags": []
          }
        }
      ]
    },
    {
      "cell_type": "code",
      "metadata": {
        "id": "5ZNtjuG9XikP",
        "outputId": "268f981b-999d-418f-e6c0-85a9b89908e7",
        "colab": {
          "base_uri": "https://localhost:8080/",
          "height": 34
        }
      },
      "source": [
        "M[3,2]"
      ],
      "execution_count": 24,
      "outputs": [
        {
          "output_type": "display_data",
          "data": {
            "text/plain": [
              "[1] 2"
            ],
            "text/latex": "2",
            "text/markdown": "2",
            "text/html": [
              "2"
            ]
          },
          "metadata": {
            "tags": []
          }
        }
      ]
    },
    {
      "cell_type": "code",
      "metadata": {
        "id": "P25MP3GGXnuN"
      },
      "source": [
        "?rownames\n"
      ],
      "execution_count": 25,
      "outputs": []
    },
    {
      "cell_type": "markdown",
      "metadata": {
        "id": "Etf0nXzTRgKh"
      },
      "source": [
        "\n",
        "\n",
        "---\n",
        "# **Taller 1**\n",
        "\n",
        " Para lanzar un nuevo producto al mercado, se le 5 ofrecieron productos distintos a 200 personas. Cada persona indicó si hubiera comprado el producto (1), o no (0).\n",
        "La siguiente matriz contiene las preferencias de los 200 clientes para cada uno de los 5 productos.\n",
        "\n",
        "**NOTA:** Para cargar el archivo \"preferencias.rds\", deben realizarlo a través de la opción \"subir l almacenamiento de sesión\" disponible en la pestaña \"Archivos\" del panel lateral izquierdo.\n",
        "\n",
        "![image.png](data:image/png;base64,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)"
      ]
    },
    {
      "cell_type": "code",
      "metadata": {
        "id": "jUlePP_nRlR2"
      },
      "source": [
        "# RDS es un formato nativo de R\n",
        "#preferencias <- readRDS(\"preferencias.rds\")\n",
        "#preferencias <- readRDS(\"sample_data/preferencias.rds\")\n",
        "#?readRDS\n",
        "help(readRDS)"
      ],
      "execution_count": 35,
      "outputs": []
    },
    {
      "cell_type": "code",
      "metadata": {
        "id": "KXCnT1oXeGss",
        "outputId": "3723b693-33ef-45d7-b5ef-7b1262a5018c",
        "colab": {
          "base_uri": "https://localhost:8080/",
          "height": 184
        }
      },
      "source": [
        "# Metadata\n",
        "infoRDS('preferencias.rds')"
      ],
      "execution_count": 33,
      "outputs": [
        {
          "output_type": "display_data",
          "data": {
            "text/plain": [
              "$version\n",
              "[1] 2\n",
              "\n",
              "$writer_version\n",
              "[1] \"3.5.3\"\n",
              "\n",
              "$min_reader_version\n",
              "[1] \"2.3.0\"\n",
              "\n",
              "$format\n",
              "[1] \"xdr\"\n"
            ],
            "text/latex": "\\begin{description}\n\\item[\\$version] 2\n\\item[\\$writer\\_version] '3.5.3'\n\\item[\\$min\\_reader\\_version] '2.3.0'\n\\item[\\$format] 'xdr'\n\\end{description}\n",
            "text/markdown": "$version\n:   2\n$writer_version\n:   '3.5.3'\n$min_reader_version\n:   '2.3.0'\n$format\n:   'xdr'\n\n\n",
            "text/html": [
              "<dl>\n",
              "\t<dt>$version</dt>\n",
              "\t\t<dd>2</dd>\n",
              "\t<dt>$writer_version</dt>\n",
              "\t\t<dd>'3.5.3'</dd>\n",
              "\t<dt>$min_reader_version</dt>\n",
              "\t\t<dd>'2.3.0'</dd>\n",
              "\t<dt>$format</dt>\n",
              "\t\t<dd>'xdr'</dd>\n",
              "</dl>\n"
            ]
          },
          "metadata": {
            "tags": []
          }
        }
      ]
    },
    {
      "cell_type": "code",
      "metadata": {
        "id": "Sfez2kutbipb",
        "outputId": "f91f92d5-49af-4c64-a440-1c88f88da393",
        "colab": {
          "base_uri": "https://localhost:8080/",
          "height": 1000
        }
      },
      "source": [
        "preferencias\n",
        "# fila:= personas\n",
        "# columna:= producto\n",
        "\n",
        "preferencias[5,3]"
      ],
      "execution_count": 36,
      "outputs": [
        {
          "output_type": "display_data",
          "data": {
            "text/plain": [
              "      [,1] [,2] [,3] [,4] [,5]\n",
              " [1,] 0    0    0    1    0   \n",
              " [2,] 1    1    1    1    0   \n",
              " [3,] 0    1    0    1    0   \n",
              " [4,] 1    1    1    1    0   \n",
              " [5,] 1    0    1    1    0   \n",
              " [6,] 0    1    1    0    1   \n",
              " [7,] 0    0    0    1    0   \n",
              " [8,] 1    0    1    0    0   \n",
              " [9,] 0    0    1    1    0   \n",
              "[10,] 0    0    1    1    0   \n",
              "[11,] 1    0    1    1    0   \n",
              "[12,] 0    0    0    1    0   \n",
              "[13,] 0    0    1    1    0   \n",
              "[14,] 0    1    1    0    1   \n",
              "[15,] 0    0    1    1    0   \n",
              "[16,] 1    1    1    1    0   \n",
              "[17,] 0    0    0    0    0   \n",
              "[18,] 0    0    1    1    0   \n",
              "[19,] 0    1    1    0    0   \n",
              "[20,] 1    1    1    1    0   \n",
              "[21,] 1    0    1    0    0   \n",
              "[22,] 0    1    1    0    0   \n",
              "[23,] 0    1    1    1    0   \n",
              "[24,] 1    1    1    1    1   \n",
              "[25,] 0    0    0    1    0   \n",
              "[26,] 1    0    1    1    0   \n",
              "[27,] 0    0    1    1    0   \n",
              "[28,] 0    1    1    0    0   \n",
              "[29,] 0    1    1    1    0   \n",
              "[30,] 0    1    0    1    0   \n",
              "[31,] ⋮    ⋮    ⋮    ⋮    ⋮   \n",
              "[32,] 0    0    1    0    0   \n",
              "[33,] 0    0    0    0    0   \n",
              "[34,] 1    1    1    1    1   \n",
              "[35,] 1    0    1    0    0   \n",
              "[36,] 0    1    0    1    0   \n",
              "[37,] 0    1    0    1    0   \n",
              "[38,] 0    1    1    1    1   \n",
              "[39,] 0    0    1    1    0   \n",
              "[40,] 1    0    1    1    0   \n",
              "[41,] 0    1    1    0    0   \n",
              "[42,] 1    1    0    1    0   \n",
              "[43,] 0    1    0    0    0   \n",
              "[44,] 1    0    0    1    1   \n",
              "[45,] 0    1    1    1    0   \n",
              "[46,] 0    1    0    0    1   \n",
              "[47,] 0    1    1    1    0   \n",
              "[48,] 0    0    1    1    0   \n",
              "[49,] 0    0    1    1    0   \n",
              "[50,] 1    0    0    1    0   \n",
              "[51,] 1    0    1    0    0   \n",
              "[52,] 0    1    1    0    0   \n",
              "[53,] 0    0    1    1    0   \n",
              "[54,] 1    1    0    1    0   \n",
              "[55,] 0    1    1    1    0   \n",
              "[56,] 1    0    1    0    0   \n",
              "[57,] 0    0    0    1    1   \n",
              "[58,] 0    0    1    1    0   \n",
              "[59,] 0    0    1    1    0   \n",
              "[60,] 0    0    0    1    0   \n",
              "[61,] 0    1    1    1    0   "
            ],
            "text/latex": "A matrix: 200 × 5 of type int\n\\begin{tabular}{lllll}\n\t 0 & 0 & 0 & 1 & 0\\\\\n\t 1 & 1 & 1 & 1 & 0\\\\\n\t 0 & 1 & 0 & 1 & 0\\\\\n\t 1 & 1 & 1 & 1 & 0\\\\\n\t 1 & 0 & 1 & 1 & 0\\\\\n\t 0 & 1 & 1 & 0 & 1\\\\\n\t 0 & 0 & 0 & 1 & 0\\\\\n\t 1 & 0 & 1 & 0 & 0\\\\\n\t 0 & 0 & 1 & 1 & 0\\\\\n\t 0 & 0 & 1 & 1 & 0\\\\\n\t 1 & 0 & 1 & 1 & 0\\\\\n\t 0 & 0 & 0 & 1 & 0\\\\\n\t 0 & 0 & 1 & 1 & 0\\\\\n\t 0 & 1 & 1 & 0 & 1\\\\\n\t 0 & 0 & 1 & 1 & 0\\\\\n\t 1 & 1 & 1 & 1 & 0\\\\\n\t 0 & 0 & 0 & 0 & 0\\\\\n\t 0 & 0 & 1 & 1 & 0\\\\\n\t 0 & 1 & 1 & 0 & 0\\\\\n\t 1 & 1 & 1 & 1 & 0\\\\\n\t 1 & 0 & 1 & 0 & 0\\\\\n\t 0 & 1 & 1 & 0 & 0\\\\\n\t 0 & 1 & 1 & 1 & 0\\\\\n\t 1 & 1 & 1 & 1 & 1\\\\\n\t 0 & 0 & 0 & 1 & 0\\\\\n\t 1 & 0 & 1 & 1 & 0\\\\\n\t 0 & 0 & 1 & 1 & 0\\\\\n\t 0 & 1 & 1 & 0 & 0\\\\\n\t 0 & 1 & 1 & 1 & 0\\\\\n\t 0 & 1 & 0 & 1 & 0\\\\\n\t ⋮ & ⋮ & ⋮ & ⋮ & ⋮\\\\\n\t 0 & 0 & 1 & 0 & 0\\\\\n\t 0 & 0 & 0 & 0 & 0\\\\\n\t 1 & 1 & 1 & 1 & 1\\\\\n\t 1 & 0 & 1 & 0 & 0\\\\\n\t 0 & 1 & 0 & 1 & 0\\\\\n\t 0 & 1 & 0 & 1 & 0\\\\\n\t 0 & 1 & 1 & 1 & 1\\\\\n\t 0 & 0 & 1 & 1 & 0\\\\\n\t 1 & 0 & 1 & 1 & 0\\\\\n\t 0 & 1 & 1 & 0 & 0\\\\\n\t 1 & 1 & 0 & 1 & 0\\\\\n\t 0 & 1 & 0 & 0 & 0\\\\\n\t 1 & 0 & 0 & 1 & 1\\\\\n\t 0 & 1 & 1 & 1 & 0\\\\\n\t 0 & 1 & 0 & 0 & 1\\\\\n\t 0 & 1 & 1 & 1 & 0\\\\\n\t 0 & 0 & 1 & 1 & 0\\\\\n\t 0 & 0 & 1 & 1 & 0\\\\\n\t 1 & 0 & 0 & 1 & 0\\\\\n\t 1 & 0 & 1 & 0 & 0\\\\\n\t 0 & 1 & 1 & 0 & 0\\\\\n\t 0 & 0 & 1 & 1 & 0\\\\\n\t 1 & 1 & 0 & 1 & 0\\\\\n\t 0 & 1 & 1 & 1 & 0\\\\\n\t 1 & 0 & 1 & 0 & 0\\\\\n\t 0 & 0 & 0 & 1 & 1\\\\\n\t 0 & 0 & 1 & 1 & 0\\\\\n\t 0 & 0 & 1 & 1 & 0\\\\\n\t 0 & 0 & 0 & 1 & 0\\\\\n\t 0 & 1 & 1 & 1 & 0\\\\\n\\end{tabular}\n",
            "text/markdown": "\nA matrix: 200 × 5 of type int\n\n| 0 | 0 | 0 | 1 | 0 |\n| 1 | 1 | 1 | 1 | 0 |\n| 0 | 1 | 0 | 1 | 0 |\n| 1 | 1 | 1 | 1 | 0 |\n| 1 | 0 | 1 | 1 | 0 |\n| 0 | 1 | 1 | 0 | 1 |\n| 0 | 0 | 0 | 1 | 0 |\n| 1 | 0 | 1 | 0 | 0 |\n| 0 | 0 | 1 | 1 | 0 |\n| 0 | 0 | 1 | 1 | 0 |\n| 1 | 0 | 1 | 1 | 0 |\n| 0 | 0 | 0 | 1 | 0 |\n| 0 | 0 | 1 | 1 | 0 |\n| 0 | 1 | 1 | 0 | 1 |\n| 0 | 0 | 1 | 1 | 0 |\n| 1 | 1 | 1 | 1 | 0 |\n| 0 | 0 | 0 | 0 | 0 |\n| 0 | 0 | 1 | 1 | 0 |\n| 0 | 1 | 1 | 0 | 0 |\n| 1 | 1 | 1 | 1 | 0 |\n| 1 | 0 | 1 | 0 | 0 |\n| 0 | 1 | 1 | 0 | 0 |\n| 0 | 1 | 1 | 1 | 0 |\n| 1 | 1 | 1 | 1 | 1 |\n| 0 | 0 | 0 | 1 | 0 |\n| 1 | 0 | 1 | 1 | 0 |\n| 0 | 0 | 1 | 1 | 0 |\n| 0 | 1 | 1 | 0 | 0 |\n| 0 | 1 | 1 | 1 | 0 |\n| 0 | 1 | 0 | 1 | 0 |\n| ⋮ | ⋮ | ⋮ | ⋮ | ⋮ |\n| 0 | 0 | 1 | 0 | 0 |\n| 0 | 0 | 0 | 0 | 0 |\n| 1 | 1 | 1 | 1 | 1 |\n| 1 | 0 | 1 | 0 | 0 |\n| 0 | 1 | 0 | 1 | 0 |\n| 0 | 1 | 0 | 1 | 0 |\n| 0 | 1 | 1 | 1 | 1 |\n| 0 | 0 | 1 | 1 | 0 |\n| 1 | 0 | 1 | 1 | 0 |\n| 0 | 1 | 1 | 0 | 0 |\n| 1 | 1 | 0 | 1 | 0 |\n| 0 | 1 | 0 | 0 | 0 |\n| 1 | 0 | 0 | 1 | 1 |\n| 0 | 1 | 1 | 1 | 0 |\n| 0 | 1 | 0 | 0 | 1 |\n| 0 | 1 | 1 | 1 | 0 |\n| 0 | 0 | 1 | 1 | 0 |\n| 0 | 0 | 1 | 1 | 0 |\n| 1 | 0 | 0 | 1 | 0 |\n| 1 | 0 | 1 | 0 | 0 |\n| 0 | 1 | 1 | 0 | 0 |\n| 0 | 0 | 1 | 1 | 0 |\n| 1 | 1 | 0 | 1 | 0 |\n| 0 | 1 | 1 | 1 | 0 |\n| 1 | 0 | 1 | 0 | 0 |\n| 0 | 0 | 0 | 1 | 1 |\n| 0 | 0 | 1 | 1 | 0 |\n| 0 | 0 | 1 | 1 | 0 |\n| 0 | 0 | 0 | 1 | 0 |\n| 0 | 1 | 1 | 1 | 0 |\n\n",
            "text/html": [
              "<table>\n",
              "<caption>A matrix: 200 × 5 of type int</caption>\n",
              "<tbody>\n",
              "\t<tr><td>0</td><td>0</td><td>0</td><td>1</td><td>0</td></tr>\n",
              "\t<tr><td>1</td><td>1</td><td>1</td><td>1</td><td>0</td></tr>\n",
              "\t<tr><td>0</td><td>1</td><td>0</td><td>1</td><td>0</td></tr>\n",
              "\t<tr><td>1</td><td>1</td><td>1</td><td>1</td><td>0</td></tr>\n",
              "\t<tr><td>1</td><td>0</td><td>1</td><td>1</td><td>0</td></tr>\n",
              "\t<tr><td>0</td><td>1</td><td>1</td><td>0</td><td>1</td></tr>\n",
              "\t<tr><td>0</td><td>0</td><td>0</td><td>1</td><td>0</td></tr>\n",
              "\t<tr><td>1</td><td>0</td><td>1</td><td>0</td><td>0</td></tr>\n",
              "\t<tr><td>0</td><td>0</td><td>1</td><td>1</td><td>0</td></tr>\n",
              "\t<tr><td>0</td><td>0</td><td>1</td><td>1</td><td>0</td></tr>\n",
              "\t<tr><td>1</td><td>0</td><td>1</td><td>1</td><td>0</td></tr>\n",
              "\t<tr><td>0</td><td>0</td><td>0</td><td>1</td><td>0</td></tr>\n",
              "\t<tr><td>0</td><td>0</td><td>1</td><td>1</td><td>0</td></tr>\n",
              "\t<tr><td>0</td><td>1</td><td>1</td><td>0</td><td>1</td></tr>\n",
              "\t<tr><td>0</td><td>0</td><td>1</td><td>1</td><td>0</td></tr>\n",
              "\t<tr><td>1</td><td>1</td><td>1</td><td>1</td><td>0</td></tr>\n",
              "\t<tr><td>0</td><td>0</td><td>0</td><td>0</td><td>0</td></tr>\n",
              "\t<tr><td>0</td><td>0</td><td>1</td><td>1</td><td>0</td></tr>\n",
              "\t<tr><td>0</td><td>1</td><td>1</td><td>0</td><td>0</td></tr>\n",
              "\t<tr><td>1</td><td>1</td><td>1</td><td>1</td><td>0</td></tr>\n",
              "\t<tr><td>1</td><td>0</td><td>1</td><td>0</td><td>0</td></tr>\n",
              "\t<tr><td>0</td><td>1</td><td>1</td><td>0</td><td>0</td></tr>\n",
              "\t<tr><td>0</td><td>1</td><td>1</td><td>1</td><td>0</td></tr>\n",
              "\t<tr><td>1</td><td>1</td><td>1</td><td>1</td><td>1</td></tr>\n",
              "\t<tr><td>0</td><td>0</td><td>0</td><td>1</td><td>0</td></tr>\n",
              "\t<tr><td>1</td><td>0</td><td>1</td><td>1</td><td>0</td></tr>\n",
              "\t<tr><td>0</td><td>0</td><td>1</td><td>1</td><td>0</td></tr>\n",
              "\t<tr><td>0</td><td>1</td><td>1</td><td>0</td><td>0</td></tr>\n",
              "\t<tr><td>0</td><td>1</td><td>1</td><td>1</td><td>0</td></tr>\n",
              "\t<tr><td>0</td><td>1</td><td>0</td><td>1</td><td>0</td></tr>\n",
              "\t<tr><td>⋮</td><td>⋮</td><td>⋮</td><td>⋮</td><td>⋮</td></tr>\n",
              "\t<tr><td>0</td><td>0</td><td>1</td><td>0</td><td>0</td></tr>\n",
              "\t<tr><td>0</td><td>0</td><td>0</td><td>0</td><td>0</td></tr>\n",
              "\t<tr><td>1</td><td>1</td><td>1</td><td>1</td><td>1</td></tr>\n",
              "\t<tr><td>1</td><td>0</td><td>1</td><td>0</td><td>0</td></tr>\n",
              "\t<tr><td>0</td><td>1</td><td>0</td><td>1</td><td>0</td></tr>\n",
              "\t<tr><td>0</td><td>1</td><td>0</td><td>1</td><td>0</td></tr>\n",
              "\t<tr><td>0</td><td>1</td><td>1</td><td>1</td><td>1</td></tr>\n",
              "\t<tr><td>0</td><td>0</td><td>1</td><td>1</td><td>0</td></tr>\n",
              "\t<tr><td>1</td><td>0</td><td>1</td><td>1</td><td>0</td></tr>\n",
              "\t<tr><td>0</td><td>1</td><td>1</td><td>0</td><td>0</td></tr>\n",
              "\t<tr><td>1</td><td>1</td><td>0</td><td>1</td><td>0</td></tr>\n",
              "\t<tr><td>0</td><td>1</td><td>0</td><td>0</td><td>0</td></tr>\n",
              "\t<tr><td>1</td><td>0</td><td>0</td><td>1</td><td>1</td></tr>\n",
              "\t<tr><td>0</td><td>1</td><td>1</td><td>1</td><td>0</td></tr>\n",
              "\t<tr><td>0</td><td>1</td><td>0</td><td>0</td><td>1</td></tr>\n",
              "\t<tr><td>0</td><td>1</td><td>1</td><td>1</td><td>0</td></tr>\n",
              "\t<tr><td>0</td><td>0</td><td>1</td><td>1</td><td>0</td></tr>\n",
              "\t<tr><td>0</td><td>0</td><td>1</td><td>1</td><td>0</td></tr>\n",
              "\t<tr><td>1</td><td>0</td><td>0</td><td>1</td><td>0</td></tr>\n",
              "\t<tr><td>1</td><td>0</td><td>1</td><td>0</td><td>0</td></tr>\n",
              "\t<tr><td>0</td><td>1</td><td>1</td><td>0</td><td>0</td></tr>\n",
              "\t<tr><td>0</td><td>0</td><td>1</td><td>1</td><td>0</td></tr>\n",
              "\t<tr><td>1</td><td>1</td><td>0</td><td>1</td><td>0</td></tr>\n",
              "\t<tr><td>0</td><td>1</td><td>1</td><td>1</td><td>0</td></tr>\n",
              "\t<tr><td>1</td><td>0</td><td>1</td><td>0</td><td>0</td></tr>\n",
              "\t<tr><td>0</td><td>0</td><td>0</td><td>1</td><td>1</td></tr>\n",
              "\t<tr><td>0</td><td>0</td><td>1</td><td>1</td><td>0</td></tr>\n",
              "\t<tr><td>0</td><td>0</td><td>1</td><td>1</td><td>0</td></tr>\n",
              "\t<tr><td>0</td><td>0</td><td>0</td><td>1</td><td>0</td></tr>\n",
              "\t<tr><td>0</td><td>1</td><td>1</td><td>1</td><td>0</td></tr>\n",
              "</tbody>\n",
              "</table>\n"
            ]
          },
          "metadata": {
            "tags": []
          }
        },
        {
          "output_type": "display_data",
          "data": {
            "text/plain": [
              "[1] 1"
            ],
            "text/latex": "1",
            "text/markdown": "1",
            "text/html": [
              "1"
            ]
          },
          "metadata": {
            "tags": []
          }
        }
      ]
    },
    {
      "cell_type": "code",
      "metadata": {
        "id": "tvR-i5agbe8o"
      },
      "source": [
        "colnames(preferencias) <- c(\"producto1\",\"producto2\",\"producto3\",\"producto4\",\"producto5\")"
      ],
      "execution_count": 37,
      "outputs": []
    },
    {
      "cell_type": "code",
      "metadata": {
        "id": "sRW6zLy8Suai",
        "outputId": "94fbae7f-9c4b-4bf4-ffdb-8ab8a2d27461",
        "colab": {
          "base_uri": "https://localhost:8080/",
          "height": 203
        }
      },
      "source": [
        "head(preferencias) # la función head() muestra por defecto los 6 primeros registros (filas por ejemplo) en una matriz/tabla/lista etc\n",
        "dim(preferencias)"
      ],
      "execution_count": 39,
      "outputs": [
        {
          "output_type": "display_data",
          "data": {
            "text/plain": [
              "     producto1 producto2 producto3 producto4 producto5\n",
              "[1,] 0         0         0         1         0        \n",
              "[2,] 1         1         1         1         0        \n",
              "[3,] 0         1         0         1         0        \n",
              "[4,] 1         1         1         1         0        \n",
              "[5,] 1         0         1         1         0        \n",
              "[6,] 0         1         1         0         1        "
            ],
            "text/latex": "A matrix: 6 × 5 of type int\n\\begin{tabular}{lllll}\n producto1 & producto2 & producto3 & producto4 & producto5\\\\\n\\hline\n\t 0 & 0 & 0 & 1 & 0\\\\\n\t 1 & 1 & 1 & 1 & 0\\\\\n\t 0 & 1 & 0 & 1 & 0\\\\\n\t 1 & 1 & 1 & 1 & 0\\\\\n\t 1 & 0 & 1 & 1 & 0\\\\\n\t 0 & 1 & 1 & 0 & 1\\\\\n\\end{tabular}\n",
            "text/markdown": "\nA matrix: 6 × 5 of type int\n\n| producto1 | producto2 | producto3 | producto4 | producto5 |\n|---|---|---|---|---|\n| 0 | 0 | 0 | 1 | 0 |\n| 1 | 1 | 1 | 1 | 0 |\n| 0 | 1 | 0 | 1 | 0 |\n| 1 | 1 | 1 | 1 | 0 |\n| 1 | 0 | 1 | 1 | 0 |\n| 0 | 1 | 1 | 0 | 1 |\n\n",
            "text/html": [
              "<table>\n",
              "<caption>A matrix: 6 × 5 of type int</caption>\n",
              "<thead>\n",
              "\t<tr><th scope=col>producto1</th><th scope=col>producto2</th><th scope=col>producto3</th><th scope=col>producto4</th><th scope=col>producto5</th></tr>\n",
              "</thead>\n",
              "<tbody>\n",
              "\t<tr><td>0</td><td>0</td><td>0</td><td>1</td><td>0</td></tr>\n",
              "\t<tr><td>1</td><td>1</td><td>1</td><td>1</td><td>0</td></tr>\n",
              "\t<tr><td>0</td><td>1</td><td>0</td><td>1</td><td>0</td></tr>\n",
              "\t<tr><td>1</td><td>1</td><td>1</td><td>1</td><td>0</td></tr>\n",
              "\t<tr><td>1</td><td>0</td><td>1</td><td>1</td><td>0</td></tr>\n",
              "\t<tr><td>0</td><td>1</td><td>1</td><td>0</td><td>1</td></tr>\n",
              "</tbody>\n",
              "</table>\n"
            ]
          },
          "metadata": {
            "tags": []
          }
        },
        {
          "output_type": "display_data",
          "data": {
            "text/plain": [
              "[1] 200   5"
            ],
            "text/latex": "\\begin{enumerate*}\n\\item 200\n\\item 5\n\\end{enumerate*}\n",
            "text/markdown": "1. 200\n2. 5\n\n\n",
            "text/html": [
              "<style>\n",
              ".list-inline {list-style: none; margin:0; padding: 0}\n",
              ".list-inline>li {display: inline-block}\n",
              ".list-inline>li:not(:last-child)::after {content: \"\\00b7\"; padding: 0 .5ex}\n",
              "</style>\n",
              "<ol class=list-inline><li>200</li><li>5</li></ol>\n"
            ]
          },
          "metadata": {
            "tags": []
          }
        }
      ]
    },
    {
      "cell_type": "markdown",
      "metadata": {
        "id": "mvpKUKWWSaB2"
      },
      "source": [
        "**P1.1** ¿Por cuáles productos tuvo preferencia el encuestado cuya posición es la 121 en la matriz de preferencias?\n"
      ]
    },
    {
      "cell_type": "code",
      "metadata": {
        "id": "NvHmc2qFW4-9",
        "outputId": "bb5c7f16-bd48-4a0c-92b7-12838b9656c4",
        "colab": {
          "base_uri": "https://localhost:8080/",
          "height": 34
        }
      },
      "source": [
        "preferencias[121,] "
      ],
      "execution_count": 40,
      "outputs": [
        {
          "output_type": "display_data",
          "data": {
            "text/plain": [
              "producto1 producto2 producto3 producto4 producto5 \n",
              "        0         1         1         1         1 "
            ],
            "text/latex": "\\begin{description*}\n\\item[producto1] 0\n\\item[producto2] 1\n\\item[producto3] 1\n\\item[producto4] 1\n\\item[producto5] 1\n\\end{description*}\n",
            "text/markdown": "producto1\n:   0producto2\n:   1producto3\n:   1producto4\n:   1producto5\n:   1\n\n",
            "text/html": [
              "<style>\n",
              ".dl-inline {width: auto; margin:0; padding: 0}\n",
              ".dl-inline>dt, .dl-inline>dd {float: none; width: auto; display: inline-block}\n",
              ".dl-inline>dt::after {content: \":\\0020\"; padding-right: .5ex}\n",
              ".dl-inline>dt:not(:first-of-type) {padding-left: .5ex}\n",
              "</style><dl class=dl-inline><dt>producto1</dt><dd>0</dd><dt>producto2</dt><dd>1</dd><dt>producto3</dt><dd>1</dd><dt>producto4</dt><dd>1</dd><dt>producto5</dt><dd>1</dd></dl>\n"
            ]
          },
          "metadata": {
            "tags": []
          }
        }
      ]
    },
    {
      "cell_type": "markdown",
      "metadata": {
        "id": "pmClU2abV6HW"
      },
      "source": [
        "\n",
        "**P1.2** Genere un vector con el total de preferencias por cada encuestado y añádalo a la matriz de preferencias. (Puede utilizar algunas de las funciones rowSums o colSums si lo desea).\n"
      ]
    },
    {
      "cell_type": "code",
      "metadata": {
        "id": "eS5zIzN-W5Yx"
      },
      "source": [
        "?rowSums"
      ],
      "execution_count": 41,
      "outputs": []
    },
    {
      "cell_type": "code",
      "metadata": {
        "id": "ZPdu-jCjgEtu"
      },
      "source": [
        "total_preferencias <- rowSums(preferencias)"
      ],
      "execution_count": 43,
      "outputs": []
    },
    {
      "cell_type": "code",
      "metadata": {
        "id": "xCUMj7u1gSg5",
        "outputId": "728f469f-57c2-41f3-b390-622f901513ee",
        "colab": {
          "base_uri": "https://localhost:8080/",
          "height": 34
        }
      },
      "source": [
        "head(total_preferencias)"
      ],
      "execution_count": 44,
      "outputs": [
        {
          "output_type": "display_data",
          "data": {
            "text/plain": [
              "[1] 1 4 2 4 3 3"
            ],
            "text/latex": "\\begin{enumerate*}\n\\item 1\n\\item 4\n\\item 2\n\\item 4\n\\item 3\n\\item 3\n\\end{enumerate*}\n",
            "text/markdown": "1. 1\n2. 4\n3. 2\n4. 4\n5. 3\n6. 3\n\n\n",
            "text/html": [
              "<style>\n",
              ".list-inline {list-style: none; margin:0; padding: 0}\n",
              ".list-inline>li {display: inline-block}\n",
              ".list-inline>li:not(:last-child)::after {content: \"\\00b7\"; padding: 0 .5ex}\n",
              "</style>\n",
              "<ol class=list-inline><li>1</li><li>4</li><li>2</li><li>4</li><li>3</li><li>3</li></ol>\n"
            ]
          },
          "metadata": {
            "tags": []
          }
        }
      ]
    },
    {
      "cell_type": "code",
      "metadata": {
        "id": "uOXeSxBIgnT_",
        "outputId": "7feb1a4a-96cb-443c-dca4-46ca4decbe8b",
        "colab": {
          "base_uri": "https://localhost:8080/",
          "height": 1000
        }
      },
      "source": [
        "cbind(preferencias, total_preferencias)"
      ],
      "execution_count": 46,
      "outputs": [
        {
          "output_type": "display_data",
          "data": {
            "text/plain": [
              "      producto1 producto2 producto3 producto4 producto5 total_preferencias\n",
              " [1,] 0         0         0         1         0         1                 \n",
              " [2,] 1         1         1         1         0         4                 \n",
              " [3,] 0         1         0         1         0         2                 \n",
              " [4,] 1         1         1         1         0         4                 \n",
              " [5,] 1         0         1         1         0         3                 \n",
              " [6,] 0         1         1         0         1         3                 \n",
              " [7,] 0         0         0         1         0         1                 \n",
              " [8,] 1         0         1         0         0         2                 \n",
              " [9,] 0         0         1         1         0         2                 \n",
              "[10,] 0         0         1         1         0         2                 \n",
              "[11,] 1         0         1         1         0         3                 \n",
              "[12,] 0         0         0         1         0         1                 \n",
              "[13,] 0         0         1         1         0         2                 \n",
              "[14,] 0         1         1         0         1         3                 \n",
              "[15,] 0         0         1         1         0         2                 \n",
              "[16,] 1         1         1         1         0         4                 \n",
              "[17,] 0         0         0         0         0         0                 \n",
              "[18,] 0         0         1         1         0         2                 \n",
              "[19,] 0         1         1         0         0         2                 \n",
              "[20,] 1         1         1         1         0         4                 \n",
              "[21,] 1         0         1         0         0         2                 \n",
              "[22,] 0         1         1         0         0         2                 \n",
              "[23,] 0         1         1         1         0         3                 \n",
              "[24,] 1         1         1         1         1         5                 \n",
              "[25,] 0         0         0         1         0         1                 \n",
              "[26,] 1         0         1         1         0         3                 \n",
              "[27,] 0         0         1         1         0         2                 \n",
              "[28,] 0         1         1         0         0         2                 \n",
              "[29,] 0         1         1         1         0         3                 \n",
              "[30,] 0         1         0         1         0         2                 \n",
              "[31,] ⋮         ⋮         ⋮         ⋮         ⋮         ⋮                 \n",
              "[32,] 0         0         1         0         0         1                 \n",
              "[33,] 0         0         0         0         0         0                 \n",
              "[34,] 1         1         1         1         1         5                 \n",
              "[35,] 1         0         1         0         0         2                 \n",
              "[36,] 0         1         0         1         0         2                 \n",
              "[37,] 0         1         0         1         0         2                 \n",
              "[38,] 0         1         1         1         1         4                 \n",
              "[39,] 0         0         1         1         0         2                 \n",
              "[40,] 1         0         1         1         0         3                 \n",
              "[41,] 0         1         1         0         0         2                 \n",
              "[42,] 1         1         0         1         0         3                 \n",
              "[43,] 0         1         0         0         0         1                 \n",
              "[44,] 1         0         0         1         1         3                 \n",
              "[45,] 0         1         1         1         0         3                 \n",
              "[46,] 0         1         0         0         1         2                 \n",
              "[47,] 0         1         1         1         0         3                 \n",
              "[48,] 0         0         1         1         0         2                 \n",
              "[49,] 0         0         1         1         0         2                 \n",
              "[50,] 1         0         0         1         0         2                 \n",
              "[51,] 1         0         1         0         0         2                 \n",
              "[52,] 0         1         1         0         0         2                 \n",
              "[53,] 0         0         1         1         0         2                 \n",
              "[54,] 1         1         0         1         0         3                 \n",
              "[55,] 0         1         1         1         0         3                 \n",
              "[56,] 1         0         1         0         0         2                 \n",
              "[57,] 0         0         0         1         1         2                 \n",
              "[58,] 0         0         1         1         0         2                 \n",
              "[59,] 0         0         1         1         0         2                 \n",
              "[60,] 0         0         0         1         0         1                 \n",
              "[61,] 0         1         1         1         0         3                 "
            ],
            "text/latex": "A matrix: 200 × 6 of type dbl\n\\begin{tabular}{llllll}\n producto1 & producto2 & producto3 & producto4 & producto5 & total\\_preferencias\\\\\n\\hline\n\t 0 & 0 & 0 & 1 & 0 & 1\\\\\n\t 1 & 1 & 1 & 1 & 0 & 4\\\\\n\t 0 & 1 & 0 & 1 & 0 & 2\\\\\n\t 1 & 1 & 1 & 1 & 0 & 4\\\\\n\t 1 & 0 & 1 & 1 & 0 & 3\\\\\n\t 0 & 1 & 1 & 0 & 1 & 3\\\\\n\t 0 & 0 & 0 & 1 & 0 & 1\\\\\n\t 1 & 0 & 1 & 0 & 0 & 2\\\\\n\t 0 & 0 & 1 & 1 & 0 & 2\\\\\n\t 0 & 0 & 1 & 1 & 0 & 2\\\\\n\t 1 & 0 & 1 & 1 & 0 & 3\\\\\n\t 0 & 0 & 0 & 1 & 0 & 1\\\\\n\t 0 & 0 & 1 & 1 & 0 & 2\\\\\n\t 0 & 1 & 1 & 0 & 1 & 3\\\\\n\t 0 & 0 & 1 & 1 & 0 & 2\\\\\n\t 1 & 1 & 1 & 1 & 0 & 4\\\\\n\t 0 & 0 & 0 & 0 & 0 & 0\\\\\n\t 0 & 0 & 1 & 1 & 0 & 2\\\\\n\t 0 & 1 & 1 & 0 & 0 & 2\\\\\n\t 1 & 1 & 1 & 1 & 0 & 4\\\\\n\t 1 & 0 & 1 & 0 & 0 & 2\\\\\n\t 0 & 1 & 1 & 0 & 0 & 2\\\\\n\t 0 & 1 & 1 & 1 & 0 & 3\\\\\n\t 1 & 1 & 1 & 1 & 1 & 5\\\\\n\t 0 & 0 & 0 & 1 & 0 & 1\\\\\n\t 1 & 0 & 1 & 1 & 0 & 3\\\\\n\t 0 & 0 & 1 & 1 & 0 & 2\\\\\n\t 0 & 1 & 1 & 0 & 0 & 2\\\\\n\t 0 & 1 & 1 & 1 & 0 & 3\\\\\n\t 0 & 1 & 0 & 1 & 0 & 2\\\\\n\t ⋮ & ⋮ & ⋮ & ⋮ & ⋮ & ⋮\\\\\n\t 0 & 0 & 1 & 0 & 0 & 1\\\\\n\t 0 & 0 & 0 & 0 & 0 & 0\\\\\n\t 1 & 1 & 1 & 1 & 1 & 5\\\\\n\t 1 & 0 & 1 & 0 & 0 & 2\\\\\n\t 0 & 1 & 0 & 1 & 0 & 2\\\\\n\t 0 & 1 & 0 & 1 & 0 & 2\\\\\n\t 0 & 1 & 1 & 1 & 1 & 4\\\\\n\t 0 & 0 & 1 & 1 & 0 & 2\\\\\n\t 1 & 0 & 1 & 1 & 0 & 3\\\\\n\t 0 & 1 & 1 & 0 & 0 & 2\\\\\n\t 1 & 1 & 0 & 1 & 0 & 3\\\\\n\t 0 & 1 & 0 & 0 & 0 & 1\\\\\n\t 1 & 0 & 0 & 1 & 1 & 3\\\\\n\t 0 & 1 & 1 & 1 & 0 & 3\\\\\n\t 0 & 1 & 0 & 0 & 1 & 2\\\\\n\t 0 & 1 & 1 & 1 & 0 & 3\\\\\n\t 0 & 0 & 1 & 1 & 0 & 2\\\\\n\t 0 & 0 & 1 & 1 & 0 & 2\\\\\n\t 1 & 0 & 0 & 1 & 0 & 2\\\\\n\t 1 & 0 & 1 & 0 & 0 & 2\\\\\n\t 0 & 1 & 1 & 0 & 0 & 2\\\\\n\t 0 & 0 & 1 & 1 & 0 & 2\\\\\n\t 1 & 1 & 0 & 1 & 0 & 3\\\\\n\t 0 & 1 & 1 & 1 & 0 & 3\\\\\n\t 1 & 0 & 1 & 0 & 0 & 2\\\\\n\t 0 & 0 & 0 & 1 & 1 & 2\\\\\n\t 0 & 0 & 1 & 1 & 0 & 2\\\\\n\t 0 & 0 & 1 & 1 & 0 & 2\\\\\n\t 0 & 0 & 0 & 1 & 0 & 1\\\\\n\t 0 & 1 & 1 & 1 & 0 & 3\\\\\n\\end{tabular}\n",
            "text/markdown": "\nA matrix: 200 × 6 of type dbl\n\n| producto1 | producto2 | producto3 | producto4 | producto5 | total_preferencias |\n|---|---|---|---|---|---|\n| 0 | 0 | 0 | 1 | 0 | 1 |\n| 1 | 1 | 1 | 1 | 0 | 4 |\n| 0 | 1 | 0 | 1 | 0 | 2 |\n| 1 | 1 | 1 | 1 | 0 | 4 |\n| 1 | 0 | 1 | 1 | 0 | 3 |\n| 0 | 1 | 1 | 0 | 1 | 3 |\n| 0 | 0 | 0 | 1 | 0 | 1 |\n| 1 | 0 | 1 | 0 | 0 | 2 |\n| 0 | 0 | 1 | 1 | 0 | 2 |\n| 0 | 0 | 1 | 1 | 0 | 2 |\n| 1 | 0 | 1 | 1 | 0 | 3 |\n| 0 | 0 | 0 | 1 | 0 | 1 |\n| 0 | 0 | 1 | 1 | 0 | 2 |\n| 0 | 1 | 1 | 0 | 1 | 3 |\n| 0 | 0 | 1 | 1 | 0 | 2 |\n| 1 | 1 | 1 | 1 | 0 | 4 |\n| 0 | 0 | 0 | 0 | 0 | 0 |\n| 0 | 0 | 1 | 1 | 0 | 2 |\n| 0 | 1 | 1 | 0 | 0 | 2 |\n| 1 | 1 | 1 | 1 | 0 | 4 |\n| 1 | 0 | 1 | 0 | 0 | 2 |\n| 0 | 1 | 1 | 0 | 0 | 2 |\n| 0 | 1 | 1 | 1 | 0 | 3 |\n| 1 | 1 | 1 | 1 | 1 | 5 |\n| 0 | 0 | 0 | 1 | 0 | 1 |\n| 1 | 0 | 1 | 1 | 0 | 3 |\n| 0 | 0 | 1 | 1 | 0 | 2 |\n| 0 | 1 | 1 | 0 | 0 | 2 |\n| 0 | 1 | 1 | 1 | 0 | 3 |\n| 0 | 1 | 0 | 1 | 0 | 2 |\n| ⋮ | ⋮ | ⋮ | ⋮ | ⋮ | ⋮ |\n| 0 | 0 | 1 | 0 | 0 | 1 |\n| 0 | 0 | 0 | 0 | 0 | 0 |\n| 1 | 1 | 1 | 1 | 1 | 5 |\n| 1 | 0 | 1 | 0 | 0 | 2 |\n| 0 | 1 | 0 | 1 | 0 | 2 |\n| 0 | 1 | 0 | 1 | 0 | 2 |\n| 0 | 1 | 1 | 1 | 1 | 4 |\n| 0 | 0 | 1 | 1 | 0 | 2 |\n| 1 | 0 | 1 | 1 | 0 | 3 |\n| 0 | 1 | 1 | 0 | 0 | 2 |\n| 1 | 1 | 0 | 1 | 0 | 3 |\n| 0 | 1 | 0 | 0 | 0 | 1 |\n| 1 | 0 | 0 | 1 | 1 | 3 |\n| 0 | 1 | 1 | 1 | 0 | 3 |\n| 0 | 1 | 0 | 0 | 1 | 2 |\n| 0 | 1 | 1 | 1 | 0 | 3 |\n| 0 | 0 | 1 | 1 | 0 | 2 |\n| 0 | 0 | 1 | 1 | 0 | 2 |\n| 1 | 0 | 0 | 1 | 0 | 2 |\n| 1 | 0 | 1 | 0 | 0 | 2 |\n| 0 | 1 | 1 | 0 | 0 | 2 |\n| 0 | 0 | 1 | 1 | 0 | 2 |\n| 1 | 1 | 0 | 1 | 0 | 3 |\n| 0 | 1 | 1 | 1 | 0 | 3 |\n| 1 | 0 | 1 | 0 | 0 | 2 |\n| 0 | 0 | 0 | 1 | 1 | 2 |\n| 0 | 0 | 1 | 1 | 0 | 2 |\n| 0 | 0 | 1 | 1 | 0 | 2 |\n| 0 | 0 | 0 | 1 | 0 | 1 |\n| 0 | 1 | 1 | 1 | 0 | 3 |\n\n",
            "text/html": [
              "<table>\n",
              "<caption>A matrix: 200 × 6 of type dbl</caption>\n",
              "<thead>\n",
              "\t<tr><th scope=col>producto1</th><th scope=col>producto2</th><th scope=col>producto3</th><th scope=col>producto4</th><th scope=col>producto5</th><th scope=col>total_preferencias</th></tr>\n",
              "</thead>\n",
              "<tbody>\n",
              "\t<tr><td>0</td><td>0</td><td>0</td><td>1</td><td>0</td><td>1</td></tr>\n",
              "\t<tr><td>1</td><td>1</td><td>1</td><td>1</td><td>0</td><td>4</td></tr>\n",
              "\t<tr><td>0</td><td>1</td><td>0</td><td>1</td><td>0</td><td>2</td></tr>\n",
              "\t<tr><td>1</td><td>1</td><td>1</td><td>1</td><td>0</td><td>4</td></tr>\n",
              "\t<tr><td>1</td><td>0</td><td>1</td><td>1</td><td>0</td><td>3</td></tr>\n",
              "\t<tr><td>0</td><td>1</td><td>1</td><td>0</td><td>1</td><td>3</td></tr>\n",
              "\t<tr><td>0</td><td>0</td><td>0</td><td>1</td><td>0</td><td>1</td></tr>\n",
              "\t<tr><td>1</td><td>0</td><td>1</td><td>0</td><td>0</td><td>2</td></tr>\n",
              "\t<tr><td>0</td><td>0</td><td>1</td><td>1</td><td>0</td><td>2</td></tr>\n",
              "\t<tr><td>0</td><td>0</td><td>1</td><td>1</td><td>0</td><td>2</td></tr>\n",
              "\t<tr><td>1</td><td>0</td><td>1</td><td>1</td><td>0</td><td>3</td></tr>\n",
              "\t<tr><td>0</td><td>0</td><td>0</td><td>1</td><td>0</td><td>1</td></tr>\n",
              "\t<tr><td>0</td><td>0</td><td>1</td><td>1</td><td>0</td><td>2</td></tr>\n",
              "\t<tr><td>0</td><td>1</td><td>1</td><td>0</td><td>1</td><td>3</td></tr>\n",
              "\t<tr><td>0</td><td>0</td><td>1</td><td>1</td><td>0</td><td>2</td></tr>\n",
              "\t<tr><td>1</td><td>1</td><td>1</td><td>1</td><td>0</td><td>4</td></tr>\n",
              "\t<tr><td>0</td><td>0</td><td>0</td><td>0</td><td>0</td><td>0</td></tr>\n",
              "\t<tr><td>0</td><td>0</td><td>1</td><td>1</td><td>0</td><td>2</td></tr>\n",
              "\t<tr><td>0</td><td>1</td><td>1</td><td>0</td><td>0</td><td>2</td></tr>\n",
              "\t<tr><td>1</td><td>1</td><td>1</td><td>1</td><td>0</td><td>4</td></tr>\n",
              "\t<tr><td>1</td><td>0</td><td>1</td><td>0</td><td>0</td><td>2</td></tr>\n",
              "\t<tr><td>0</td><td>1</td><td>1</td><td>0</td><td>0</td><td>2</td></tr>\n",
              "\t<tr><td>0</td><td>1</td><td>1</td><td>1</td><td>0</td><td>3</td></tr>\n",
              "\t<tr><td>1</td><td>1</td><td>1</td><td>1</td><td>1</td><td>5</td></tr>\n",
              "\t<tr><td>0</td><td>0</td><td>0</td><td>1</td><td>0</td><td>1</td></tr>\n",
              "\t<tr><td>1</td><td>0</td><td>1</td><td>1</td><td>0</td><td>3</td></tr>\n",
              "\t<tr><td>0</td><td>0</td><td>1</td><td>1</td><td>0</td><td>2</td></tr>\n",
              "\t<tr><td>0</td><td>1</td><td>1</td><td>0</td><td>0</td><td>2</td></tr>\n",
              "\t<tr><td>0</td><td>1</td><td>1</td><td>1</td><td>0</td><td>3</td></tr>\n",
              "\t<tr><td>0</td><td>1</td><td>0</td><td>1</td><td>0</td><td>2</td></tr>\n",
              "\t<tr><td>⋮</td><td>⋮</td><td>⋮</td><td>⋮</td><td>⋮</td><td>⋮</td></tr>\n",
              "\t<tr><td>0</td><td>0</td><td>1</td><td>0</td><td>0</td><td>1</td></tr>\n",
              "\t<tr><td>0</td><td>0</td><td>0</td><td>0</td><td>0</td><td>0</td></tr>\n",
              "\t<tr><td>1</td><td>1</td><td>1</td><td>1</td><td>1</td><td>5</td></tr>\n",
              "\t<tr><td>1</td><td>0</td><td>1</td><td>0</td><td>0</td><td>2</td></tr>\n",
              "\t<tr><td>0</td><td>1</td><td>0</td><td>1</td><td>0</td><td>2</td></tr>\n",
              "\t<tr><td>0</td><td>1</td><td>0</td><td>1</td><td>0</td><td>2</td></tr>\n",
              "\t<tr><td>0</td><td>1</td><td>1</td><td>1</td><td>1</td><td>4</td></tr>\n",
              "\t<tr><td>0</td><td>0</td><td>1</td><td>1</td><td>0</td><td>2</td></tr>\n",
              "\t<tr><td>1</td><td>0</td><td>1</td><td>1</td><td>0</td><td>3</td></tr>\n",
              "\t<tr><td>0</td><td>1</td><td>1</td><td>0</td><td>0</td><td>2</td></tr>\n",
              "\t<tr><td>1</td><td>1</td><td>0</td><td>1</td><td>0</td><td>3</td></tr>\n",
              "\t<tr><td>0</td><td>1</td><td>0</td><td>0</td><td>0</td><td>1</td></tr>\n",
              "\t<tr><td>1</td><td>0</td><td>0</td><td>1</td><td>1</td><td>3</td></tr>\n",
              "\t<tr><td>0</td><td>1</td><td>1</td><td>1</td><td>0</td><td>3</td></tr>\n",
              "\t<tr><td>0</td><td>1</td><td>0</td><td>0</td><td>1</td><td>2</td></tr>\n",
              "\t<tr><td>0</td><td>1</td><td>1</td><td>1</td><td>0</td><td>3</td></tr>\n",
              "\t<tr><td>0</td><td>0</td><td>1</td><td>1</td><td>0</td><td>2</td></tr>\n",
              "\t<tr><td>0</td><td>0</td><td>1</td><td>1</td><td>0</td><td>2</td></tr>\n",
              "\t<tr><td>1</td><td>0</td><td>0</td><td>1</td><td>0</td><td>2</td></tr>\n",
              "\t<tr><td>1</td><td>0</td><td>1</td><td>0</td><td>0</td><td>2</td></tr>\n",
              "\t<tr><td>0</td><td>1</td><td>1</td><td>0</td><td>0</td><td>2</td></tr>\n",
              "\t<tr><td>0</td><td>0</td><td>1</td><td>1</td><td>0</td><td>2</td></tr>\n",
              "\t<tr><td>1</td><td>1</td><td>0</td><td>1</td><td>0</td><td>3</td></tr>\n",
              "\t<tr><td>0</td><td>1</td><td>1</td><td>1</td><td>0</td><td>3</td></tr>\n",
              "\t<tr><td>1</td><td>0</td><td>1</td><td>0</td><td>0</td><td>2</td></tr>\n",
              "\t<tr><td>0</td><td>0</td><td>0</td><td>1</td><td>1</td><td>2</td></tr>\n",
              "\t<tr><td>0</td><td>0</td><td>1</td><td>1</td><td>0</td><td>2</td></tr>\n",
              "\t<tr><td>0</td><td>0</td><td>1</td><td>1</td><td>0</td><td>2</td></tr>\n",
              "\t<tr><td>0</td><td>0</td><td>0</td><td>1</td><td>0</td><td>1</td></tr>\n",
              "\t<tr><td>0</td><td>1</td><td>1</td><td>1</td><td>0</td><td>3</td></tr>\n",
              "</tbody>\n",
              "</table>\n"
            ]
          },
          "metadata": {
            "tags": []
          }
        }
      ]
    },
    {
      "cell_type": "code",
      "metadata": {
        "id": "B8p1G6YhgbLK"
      },
      "source": [
        "# colnames(total_preferencias) <- 'total'"
      ],
      "execution_count": null,
      "outputs": []
    },
    {
      "cell_type": "markdown",
      "metadata": {
        "id": "-xu9zpDlV6KQ"
      },
      "source": [
        "\n",
        "**P1.3** ¿Cuántos productos en promedio prefirieron los encuestados ?\n"
      ]
    },
    {
      "cell_type": "code",
      "metadata": {
        "id": "9XxLdNWgW5wz"
      },
      "source": [
        "promedio <- rowMeans(preferencias)"
      ],
      "execution_count": 47,
      "outputs": []
    },
    {
      "cell_type": "code",
      "metadata": {
        "id": "Y4zneBaRhXAQ"
      },
      "source": [
        "preferencias_resumen <- cbind(preferencias, total_preferencias, promedio)"
      ],
      "execution_count": 50,
      "outputs": []
    },
    {
      "cell_type": "markdown",
      "metadata": {
        "id": "cLIkOxZdV6M5"
      },
      "source": [
        "\n",
        "**P1.4** En la matriz de preferencias, ¿cuál es la posición  del encuestado que tuvo una mayor cantidad de preferencias?\n"
      ]
    },
    {
      "cell_type": "code",
      "metadata": {
        "id": "zDcpByKHW6Ia",
        "outputId": "1c9f3e9f-efa5-4726-8d7b-366afd765945",
        "colab": {
          "base_uri": "https://localhost:8080/",
          "height": 186
        }
      },
      "source": [
        "head(preferencias_resumen)"
      ],
      "execution_count": 51,
      "outputs": [
        {
          "output_type": "display_data",
          "data": {
            "text/plain": [
              "     producto1 producto2 producto3 producto4 producto5 total_preferencias\n",
              "[1,] 0         0         0         1         0         1                 \n",
              "[2,] 1         1         1         1         0         4                 \n",
              "[3,] 0         1         0         1         0         2                 \n",
              "[4,] 1         1         1         1         0         4                 \n",
              "[5,] 1         0         1         1         0         3                 \n",
              "[6,] 0         1         1         0         1         3                 \n",
              "     promedio\n",
              "[1,] 0.2     \n",
              "[2,] 0.8     \n",
              "[3,] 0.4     \n",
              "[4,] 0.8     \n",
              "[5,] 0.6     \n",
              "[6,] 0.6     "
            ],
            "text/latex": "A matrix: 6 × 7 of type dbl\n\\begin{tabular}{lllllll}\n producto1 & producto2 & producto3 & producto4 & producto5 & total\\_preferencias & promedio\\\\\n\\hline\n\t 0 & 0 & 0 & 1 & 0 & 1 & 0.2\\\\\n\t 1 & 1 & 1 & 1 & 0 & 4 & 0.8\\\\\n\t 0 & 1 & 0 & 1 & 0 & 2 & 0.4\\\\\n\t 1 & 1 & 1 & 1 & 0 & 4 & 0.8\\\\\n\t 1 & 0 & 1 & 1 & 0 & 3 & 0.6\\\\\n\t 0 & 1 & 1 & 0 & 1 & 3 & 0.6\\\\\n\\end{tabular}\n",
            "text/markdown": "\nA matrix: 6 × 7 of type dbl\n\n| producto1 | producto2 | producto3 | producto4 | producto5 | total_preferencias | promedio |\n|---|---|---|---|---|---|---|\n| 0 | 0 | 0 | 1 | 0 | 1 | 0.2 |\n| 1 | 1 | 1 | 1 | 0 | 4 | 0.8 |\n| 0 | 1 | 0 | 1 | 0 | 2 | 0.4 |\n| 1 | 1 | 1 | 1 | 0 | 4 | 0.8 |\n| 1 | 0 | 1 | 1 | 0 | 3 | 0.6 |\n| 0 | 1 | 1 | 0 | 1 | 3 | 0.6 |\n\n",
            "text/html": [
              "<table>\n",
              "<caption>A matrix: 6 × 7 of type dbl</caption>\n",
              "<thead>\n",
              "\t<tr><th scope=col>producto1</th><th scope=col>producto2</th><th scope=col>producto3</th><th scope=col>producto4</th><th scope=col>producto5</th><th scope=col>total_preferencias</th><th scope=col>promedio</th></tr>\n",
              "</thead>\n",
              "<tbody>\n",
              "\t<tr><td>0</td><td>0</td><td>0</td><td>1</td><td>0</td><td>1</td><td>0.2</td></tr>\n",
              "\t<tr><td>1</td><td>1</td><td>1</td><td>1</td><td>0</td><td>4</td><td>0.8</td></tr>\n",
              "\t<tr><td>0</td><td>1</td><td>0</td><td>1</td><td>0</td><td>2</td><td>0.4</td></tr>\n",
              "\t<tr><td>1</td><td>1</td><td>1</td><td>1</td><td>0</td><td>4</td><td>0.8</td></tr>\n",
              "\t<tr><td>1</td><td>0</td><td>1</td><td>1</td><td>0</td><td>3</td><td>0.6</td></tr>\n",
              "\t<tr><td>0</td><td>1</td><td>1</td><td>0</td><td>1</td><td>3</td><td>0.6</td></tr>\n",
              "</tbody>\n",
              "</table>\n"
            ]
          },
          "metadata": {
            "tags": []
          }
        }
      ]
    },
    {
      "cell_type": "code",
      "metadata": {
        "id": "7f4aMW7fiIqn",
        "outputId": "4a101108-fef0-474a-acf2-6c6a9f2221bf",
        "colab": {
          "base_uri": "https://localhost:8080/",
          "height": 34
        }
      },
      "source": [
        "?which.max\n",
        "# Determina la ubicación (el índice) del mínimo o máximo de un número\n",
        "which.max(preferencias_resumen[,'total_preferencias'])"
      ],
      "execution_count": 54,
      "outputs": [
        {
          "output_type": "display_data",
          "data": {
            "text/plain": [
              "[1] 24"
            ],
            "text/latex": "24",
            "text/markdown": "24",
            "text/html": [
              "24"
            ]
          },
          "metadata": {
            "tags": []
          }
        }
      ]
    },
    {
      "cell_type": "code",
      "metadata": {
        "id": "gwgvrjakilIf",
        "outputId": "dc2fbfc6-2ea5-4bd3-c64a-8ff347ae9b58",
        "colab": {
          "base_uri": "https://localhost:8080/",
          "height": 143
        }
      },
      "source": [
        "preferencias_resumen[preferencias_resumen[, \"total_preferencias\"] == 5,]\n",
        "# data[indices que me interesan:= TRUE,]"
      ],
      "execution_count": 58,
      "outputs": [
        {
          "output_type": "display_data",
          "data": {
            "text/plain": [
              "     producto1 producto2 producto3 producto4 producto5 total_preferencias\n",
              "[1,] 1         1         1         1         1         5                 \n",
              "[2,] 1         1         1         1         1         5                 \n",
              "[3,] 1         1         1         1         1         5                 \n",
              "[4,] 1         1         1         1         1         5                 \n",
              "     promedio\n",
              "[1,] 1       \n",
              "[2,] 1       \n",
              "[3,] 1       \n",
              "[4,] 1       "
            ],
            "text/latex": "A matrix: 4 × 7 of type dbl\n\\begin{tabular}{lllllll}\n producto1 & producto2 & producto3 & producto4 & producto5 & total\\_preferencias & promedio\\\\\n\\hline\n\t 1 & 1 & 1 & 1 & 1 & 5 & 1\\\\\n\t 1 & 1 & 1 & 1 & 1 & 5 & 1\\\\\n\t 1 & 1 & 1 & 1 & 1 & 5 & 1\\\\\n\t 1 & 1 & 1 & 1 & 1 & 5 & 1\\\\\n\\end{tabular}\n",
            "text/markdown": "\nA matrix: 4 × 7 of type dbl\n\n| producto1 | producto2 | producto3 | producto4 | producto5 | total_preferencias | promedio |\n|---|---|---|---|---|---|---|\n| 1 | 1 | 1 | 1 | 1 | 5 | 1 |\n| 1 | 1 | 1 | 1 | 1 | 5 | 1 |\n| 1 | 1 | 1 | 1 | 1 | 5 | 1 |\n| 1 | 1 | 1 | 1 | 1 | 5 | 1 |\n\n",
            "text/html": [
              "<table>\n",
              "<caption>A matrix: 4 × 7 of type dbl</caption>\n",
              "<thead>\n",
              "\t<tr><th scope=col>producto1</th><th scope=col>producto2</th><th scope=col>producto3</th><th scope=col>producto4</th><th scope=col>producto5</th><th scope=col>total_preferencias</th><th scope=col>promedio</th></tr>\n",
              "</thead>\n",
              "<tbody>\n",
              "\t<tr><td>1</td><td>1</td><td>1</td><td>1</td><td>1</td><td>5</td><td>1</td></tr>\n",
              "\t<tr><td>1</td><td>1</td><td>1</td><td>1</td><td>1</td><td>5</td><td>1</td></tr>\n",
              "\t<tr><td>1</td><td>1</td><td>1</td><td>1</td><td>1</td><td>5</td><td>1</td></tr>\n",
              "\t<tr><td>1</td><td>1</td><td>1</td><td>1</td><td>1</td><td>5</td><td>1</td></tr>\n",
              "</tbody>\n",
              "</table>\n"
            ]
          },
          "metadata": {
            "tags": []
          }
        }
      ]
    },
    {
      "cell_type": "markdown",
      "metadata": {
        "id": "3RqMQO67V6PO"
      },
      "source": [
        "\n",
        "**P1.5** Cree un nuevo vector llamado \"cliente_variado\", que contenga un 1 si su cantidad de preferncias fue mayor a 3 y 0 en otro caso.\n"
      ]
    },
    {
      "cell_type": "code",
      "metadata": {
        "id": "ZsZO0TOZW6hj",
        "outputId": "8ffb1142-64c7-4be0-9dc8-3faeede3d666",
        "colab": {
          "base_uri": "https://localhost:8080/",
          "height": 312
        }
      },
      "source": [
        "# 1. Sumamos fila\n",
        "rowSums(preferencias)"
      ],
      "execution_count": 64,
      "outputs": [
        {
          "output_type": "display_data",
          "data": {
            "text/plain": [
              "  [1] 1 4 2 4 3 3 1 2 2 2 3 1 2 3 2 4 0 2 2 4 2 2 3 5 1 3 2 2 3 2 3 2 3 2 2 2 2\n",
              " [38] 3 1 3 4 3 0 3 1 2 2 3 3 4 2 1 5 2 3 1 1 2 3 4 1 2 3 3 4 3 2 3 3 2 4 1 3 1\n",
              " [75] 4 3 2 2 3 2 3 2 1 2 0 3 3 3 3 2 1 2 2 2 4 2 4 2 2 2 3 2 4 3 3 3 3 3 2 2 3\n",
              "[112] 2 3 3 2 4 3 2 1 2 4 2 2 3 2 3 1 2 1 3 3 2 3 2 3 1 3 3 5 3 1 2 2 2 2 1 3 1\n",
              "[149] 1 3 3 3 4 1 3 4 3 1 2 3 2 1 2 2 3 3 3 1 2 1 1 0 5 2 2 2 4 2 3 2 3 1 3 3 2\n",
              "[186] 3 2 2 2 2 2 2 3 3 2 2 2 2 1 3"
            ],
            "text/latex": "\\begin{enumerate*}\n\\item 1\n\\item 4\n\\item 2\n\\item 4\n\\item 3\n\\item 3\n\\item 1\n\\item 2\n\\item 2\n\\item 2\n\\item 3\n\\item 1\n\\item 2\n\\item 3\n\\item 2\n\\item 4\n\\item 0\n\\item 2\n\\item 2\n\\item 4\n\\item 2\n\\item 2\n\\item 3\n\\item 5\n\\item 1\n\\item 3\n\\item 2\n\\item 2\n\\item 3\n\\item 2\n\\item 3\n\\item 2\n\\item 3\n\\item 2\n\\item 2\n\\item 2\n\\item 2\n\\item 3\n\\item 1\n\\item 3\n\\item 4\n\\item 3\n\\item 0\n\\item 3\n\\item 1\n\\item 2\n\\item 2\n\\item 3\n\\item 3\n\\item 4\n\\item 2\n\\item 1\n\\item 5\n\\item 2\n\\item 3\n\\item 1\n\\item 1\n\\item 2\n\\item 3\n\\item 4\n\\item 1\n\\item 2\n\\item 3\n\\item 3\n\\item 4\n\\item 3\n\\item 2\n\\item 3\n\\item 3\n\\item 2\n\\item 4\n\\item 1\n\\item 3\n\\item 1\n\\item 4\n\\item 3\n\\item 2\n\\item 2\n\\item 3\n\\item 2\n\\item 3\n\\item 2\n\\item 1\n\\item 2\n\\item 0\n\\item 3\n\\item 3\n\\item 3\n\\item 3\n\\item 2\n\\item 1\n\\item 2\n\\item 2\n\\item 2\n\\item 4\n\\item 2\n\\item 4\n\\item 2\n\\item 2\n\\item 2\n\\item 3\n\\item 2\n\\item 4\n\\item 3\n\\item 3\n\\item 3\n\\item 3\n\\item 3\n\\item 2\n\\item 2\n\\item 3\n\\item 2\n\\item 3\n\\item 3\n\\item 2\n\\item 4\n\\item 3\n\\item 2\n\\item 1\n\\item 2\n\\item 4\n\\item 2\n\\item 2\n\\item 3\n\\item 2\n\\item 3\n\\item 1\n\\item 2\n\\item 1\n\\item 3\n\\item 3\n\\item 2\n\\item 3\n\\item 2\n\\item 3\n\\item 1\n\\item 3\n\\item 3\n\\item 5\n\\item 3\n\\item 1\n\\item 2\n\\item 2\n\\item 2\n\\item 2\n\\item 1\n\\item 3\n\\item 1\n\\item 1\n\\item 3\n\\item 3\n\\item 3\n\\item 4\n\\item 1\n\\item 3\n\\item 4\n\\item 3\n\\item 1\n\\item 2\n\\item 3\n\\item 2\n\\item 1\n\\item 2\n\\item 2\n\\item 3\n\\item 3\n\\item 3\n\\item 1\n\\item 2\n\\item 1\n\\item 1\n\\item 0\n\\item 5\n\\item 2\n\\item 2\n\\item 2\n\\item 4\n\\item 2\n\\item 3\n\\item 2\n\\item 3\n\\item 1\n\\item 3\n\\item 3\n\\item 2\n\\item 3\n\\item 2\n\\item 2\n\\item 2\n\\item 2\n\\item 2\n\\item 2\n\\item 3\n\\item 3\n\\item 2\n\\item 2\n\\item 2\n\\item 2\n\\item 1\n\\item 3\n\\end{enumerate*}\n",
            "text/markdown": "1. 1\n2. 4\n3. 2\n4. 4\n5. 3\n6. 3\n7. 1\n8. 2\n9. 2\n10. 2\n11. 3\n12. 1\n13. 2\n14. 3\n15. 2\n16. 4\n17. 0\n18. 2\n19. 2\n20. 4\n21. 2\n22. 2\n23. 3\n24. 5\n25. 1\n26. 3\n27. 2\n28. 2\n29. 3\n30. 2\n31. 3\n32. 2\n33. 3\n34. 2\n35. 2\n36. 2\n37. 2\n38. 3\n39. 1\n40. 3\n41. 4\n42. 3\n43. 0\n44. 3\n45. 1\n46. 2\n47. 2\n48. 3\n49. 3\n50. 4\n51. 2\n52. 1\n53. 5\n54. 2\n55. 3\n56. 1\n57. 1\n58. 2\n59. 3\n60. 4\n61. 1\n62. 2\n63. 3\n64. 3\n65. 4\n66. 3\n67. 2\n68. 3\n69. 3\n70. 2\n71. 4\n72. 1\n73. 3\n74. 1\n75. 4\n76. 3\n77. 2\n78. 2\n79. 3\n80. 2\n81. 3\n82. 2\n83. 1\n84. 2\n85. 0\n86. 3\n87. 3\n88. 3\n89. 3\n90. 2\n91. 1\n92. 2\n93. 2\n94. 2\n95. 4\n96. 2\n97. 4\n98. 2\n99. 2\n100. 2\n101. 3\n102. 2\n103. 4\n104. 3\n105. 3\n106. 3\n107. 3\n108. 3\n109. 2\n110. 2\n111. 3\n112. 2\n113. 3\n114. 3\n115. 2\n116. 4\n117. 3\n118. 2\n119. 1\n120. 2\n121. 4\n122. 2\n123. 2\n124. 3\n125. 2\n126. 3\n127. 1\n128. 2\n129. 1\n130. 3\n131. 3\n132. 2\n133. 3\n134. 2\n135. 3\n136. 1\n137. 3\n138. 3\n139. 5\n140. 3\n141. 1\n142. 2\n143. 2\n144. 2\n145. 2\n146. 1\n147. 3\n148. 1\n149. 1\n150. 3\n151. 3\n152. 3\n153. 4\n154. 1\n155. 3\n156. 4\n157. 3\n158. 1\n159. 2\n160. 3\n161. 2\n162. 1\n163. 2\n164. 2\n165. 3\n166. 3\n167. 3\n168. 1\n169. 2\n170. 1\n171. 1\n172. 0\n173. 5\n174. 2\n175. 2\n176. 2\n177. 4\n178. 2\n179. 3\n180. 2\n181. 3\n182. 1\n183. 3\n184. 3\n185. 2\n186. 3\n187. 2\n188. 2\n189. 2\n190. 2\n191. 2\n192. 2\n193. 3\n194. 3\n195. 2\n196. 2\n197. 2\n198. 2\n199. 1\n200. 3\n\n\n",
            "text/html": [
              "<style>\n",
              ".list-inline {list-style: none; margin:0; padding: 0}\n",
              ".list-inline>li {display: inline-block}\n",
              ".list-inline>li:not(:last-child)::after {content: \"\\00b7\"; padding: 0 .5ex}\n",
              "</style>\n",
              "<ol class=list-inline><li>1</li><li>4</li><li>2</li><li>4</li><li>3</li><li>3</li><li>1</li><li>2</li><li>2</li><li>2</li><li>3</li><li>1</li><li>2</li><li>3</li><li>2</li><li>4</li><li>0</li><li>2</li><li>2</li><li>4</li><li>2</li><li>2</li><li>3</li><li>5</li><li>1</li><li>3</li><li>2</li><li>2</li><li>3</li><li>2</li><li>3</li><li>2</li><li>3</li><li>2</li><li>2</li><li>2</li><li>2</li><li>3</li><li>1</li><li>3</li><li>4</li><li>3</li><li>0</li><li>3</li><li>1</li><li>2</li><li>2</li><li>3</li><li>3</li><li>4</li><li>2</li><li>1</li><li>5</li><li>2</li><li>3</li><li>1</li><li>1</li><li>2</li><li>3</li><li>4</li><li>1</li><li>2</li><li>3</li><li>3</li><li>4</li><li>3</li><li>2</li><li>3</li><li>3</li><li>2</li><li>4</li><li>1</li><li>3</li><li>1</li><li>4</li><li>3</li><li>2</li><li>2</li><li>3</li><li>2</li><li>3</li><li>2</li><li>1</li><li>2</li><li>0</li><li>3</li><li>3</li><li>3</li><li>3</li><li>2</li><li>1</li><li>2</li><li>2</li><li>2</li><li>4</li><li>2</li><li>4</li><li>2</li><li>2</li><li>2</li><li>3</li><li>2</li><li>4</li><li>3</li><li>3</li><li>3</li><li>3</li><li>3</li><li>2</li><li>2</li><li>3</li><li>2</li><li>3</li><li>3</li><li>2</li><li>4</li><li>3</li><li>2</li><li>1</li><li>2</li><li>4</li><li>2</li><li>2</li><li>3</li><li>2</li><li>3</li><li>1</li><li>2</li><li>1</li><li>3</li><li>3</li><li>2</li><li>3</li><li>2</li><li>3</li><li>1</li><li>3</li><li>3</li><li>5</li><li>3</li><li>1</li><li>2</li><li>2</li><li>2</li><li>2</li><li>1</li><li>3</li><li>1</li><li>1</li><li>3</li><li>3</li><li>3</li><li>4</li><li>1</li><li>3</li><li>4</li><li>3</li><li>1</li><li>2</li><li>3</li><li>2</li><li>1</li><li>2</li><li>2</li><li>3</li><li>3</li><li>3</li><li>1</li><li>2</li><li>1</li><li>1</li><li>0</li><li>5</li><li>2</li><li>2</li><li>2</li><li>4</li><li>2</li><li>3</li><li>2</li><li>3</li><li>1</li><li>3</li><li>3</li><li>2</li><li>3</li><li>2</li><li>2</li><li>2</li><li>2</li><li>2</li><li>2</li><li>3</li><li>3</li><li>2</li><li>2</li><li>2</li><li>2</li><li>1</li><li>3</li></ol>\n"
            ]
          },
          "metadata": {
            "tags": []
          }
        },
        {
          "output_type": "display_data",
          "data": {
            "text/plain": [
              "  [1] FALSE  TRUE FALSE  TRUE FALSE FALSE FALSE FALSE FALSE FALSE FALSE FALSE\n",
              " [13] FALSE FALSE FALSE  TRUE FALSE FALSE FALSE  TRUE FALSE FALSE FALSE  TRUE\n",
              " [25] FALSE FALSE FALSE FALSE FALSE FALSE FALSE FALSE FALSE FALSE FALSE FALSE\n",
              " [37] FALSE FALSE FALSE FALSE  TRUE FALSE FALSE FALSE FALSE FALSE FALSE FALSE\n",
              " [49] FALSE  TRUE FALSE FALSE  TRUE FALSE FALSE FALSE FALSE FALSE FALSE  TRUE\n",
              " [61] FALSE FALSE FALSE FALSE  TRUE FALSE FALSE FALSE FALSE FALSE  TRUE FALSE\n",
              " [73] FALSE FALSE  TRUE FALSE FALSE FALSE FALSE FALSE FALSE FALSE FALSE FALSE\n",
              " [85] FALSE FALSE FALSE FALSE FALSE FALSE FALSE FALSE FALSE FALSE  TRUE FALSE\n",
              " [97]  TRUE FALSE FALSE FALSE FALSE FALSE  TRUE FALSE FALSE FALSE FALSE FALSE\n",
              "[109] FALSE FALSE FALSE FALSE FALSE FALSE FALSE  TRUE FALSE FALSE FALSE FALSE\n",
              "[121]  TRUE FALSE FALSE FALSE FALSE FALSE FALSE FALSE FALSE FALSE FALSE FALSE\n",
              "[133] FALSE FALSE FALSE FALSE FALSE FALSE  TRUE FALSE FALSE FALSE FALSE FALSE\n",
              "[145] FALSE FALSE FALSE FALSE FALSE FALSE FALSE FALSE  TRUE FALSE FALSE  TRUE\n",
              "[157] FALSE FALSE FALSE FALSE FALSE FALSE FALSE FALSE FALSE FALSE FALSE FALSE\n",
              "[169] FALSE FALSE FALSE FALSE  TRUE FALSE FALSE FALSE  TRUE FALSE FALSE FALSE\n",
              "[181] FALSE FALSE FALSE FALSE FALSE FALSE FALSE FALSE FALSE FALSE FALSE FALSE\n",
              "[193] FALSE FALSE FALSE FALSE FALSE FALSE FALSE FALSE"
            ],
            "text/latex": "\\begin{enumerate*}\n\\item FALSE\n\\item TRUE\n\\item FALSE\n\\item TRUE\n\\item FALSE\n\\item FALSE\n\\item FALSE\n\\item FALSE\n\\item FALSE\n\\item FALSE\n\\item FALSE\n\\item FALSE\n\\item FALSE\n\\item FALSE\n\\item FALSE\n\\item TRUE\n\\item FALSE\n\\item FALSE\n\\item FALSE\n\\item TRUE\n\\item FALSE\n\\item FALSE\n\\item FALSE\n\\item TRUE\n\\item FALSE\n\\item FALSE\n\\item FALSE\n\\item FALSE\n\\item FALSE\n\\item FALSE\n\\item FALSE\n\\item FALSE\n\\item FALSE\n\\item FALSE\n\\item FALSE\n\\item FALSE\n\\item FALSE\n\\item FALSE\n\\item FALSE\n\\item FALSE\n\\item TRUE\n\\item FALSE\n\\item FALSE\n\\item FALSE\n\\item FALSE\n\\item FALSE\n\\item FALSE\n\\item FALSE\n\\item FALSE\n\\item TRUE\n\\item FALSE\n\\item FALSE\n\\item TRUE\n\\item FALSE\n\\item FALSE\n\\item FALSE\n\\item FALSE\n\\item FALSE\n\\item FALSE\n\\item TRUE\n\\item FALSE\n\\item FALSE\n\\item FALSE\n\\item FALSE\n\\item TRUE\n\\item FALSE\n\\item FALSE\n\\item FALSE\n\\item FALSE\n\\item FALSE\n\\item TRUE\n\\item FALSE\n\\item FALSE\n\\item FALSE\n\\item TRUE\n\\item FALSE\n\\item FALSE\n\\item FALSE\n\\item FALSE\n\\item FALSE\n\\item FALSE\n\\item FALSE\n\\item FALSE\n\\item FALSE\n\\item FALSE\n\\item FALSE\n\\item FALSE\n\\item FALSE\n\\item FALSE\n\\item FALSE\n\\item FALSE\n\\item FALSE\n\\item FALSE\n\\item FALSE\n\\item TRUE\n\\item FALSE\n\\item TRUE\n\\item FALSE\n\\item FALSE\n\\item FALSE\n\\item FALSE\n\\item FALSE\n\\item TRUE\n\\item FALSE\n\\item FALSE\n\\item FALSE\n\\item FALSE\n\\item FALSE\n\\item FALSE\n\\item FALSE\n\\item FALSE\n\\item FALSE\n\\item FALSE\n\\item FALSE\n\\item FALSE\n\\item TRUE\n\\item FALSE\n\\item FALSE\n\\item FALSE\n\\item FALSE\n\\item TRUE\n\\item FALSE\n\\item FALSE\n\\item FALSE\n\\item FALSE\n\\item FALSE\n\\item FALSE\n\\item FALSE\n\\item FALSE\n\\item FALSE\n\\item FALSE\n\\item FALSE\n\\item FALSE\n\\item FALSE\n\\item FALSE\n\\item FALSE\n\\item FALSE\n\\item FALSE\n\\item TRUE\n\\item FALSE\n\\item FALSE\n\\item FALSE\n\\item FALSE\n\\item FALSE\n\\item FALSE\n\\item FALSE\n\\item FALSE\n\\item FALSE\n\\item FALSE\n\\item FALSE\n\\item FALSE\n\\item FALSE\n\\item TRUE\n\\item FALSE\n\\item FALSE\n\\item TRUE\n\\item FALSE\n\\item FALSE\n\\item FALSE\n\\item FALSE\n\\item FALSE\n\\item FALSE\n\\item FALSE\n\\item FALSE\n\\item FALSE\n\\item FALSE\n\\item FALSE\n\\item FALSE\n\\item FALSE\n\\item FALSE\n\\item FALSE\n\\item FALSE\n\\item TRUE\n\\item FALSE\n\\item FALSE\n\\item FALSE\n\\item TRUE\n\\item FALSE\n\\item FALSE\n\\item FALSE\n\\item FALSE\n\\item FALSE\n\\item FALSE\n\\item FALSE\n\\item FALSE\n\\item FALSE\n\\item FALSE\n\\item FALSE\n\\item FALSE\n\\item FALSE\n\\item FALSE\n\\item FALSE\n\\item FALSE\n\\item FALSE\n\\item FALSE\n\\item FALSE\n\\item FALSE\n\\item FALSE\n\\item FALSE\n\\item FALSE\n\\end{enumerate*}\n",
            "text/markdown": "1. FALSE\n2. TRUE\n3. FALSE\n4. TRUE\n5. FALSE\n6. FALSE\n7. FALSE\n8. FALSE\n9. FALSE\n10. FALSE\n11. FALSE\n12. FALSE\n13. FALSE\n14. FALSE\n15. FALSE\n16. TRUE\n17. FALSE\n18. FALSE\n19. FALSE\n20. TRUE\n21. FALSE\n22. FALSE\n23. FALSE\n24. TRUE\n25. FALSE\n26. FALSE\n27. FALSE\n28. FALSE\n29. FALSE\n30. FALSE\n31. FALSE\n32. FALSE\n33. FALSE\n34. FALSE\n35. FALSE\n36. FALSE\n37. FALSE\n38. FALSE\n39. FALSE\n40. FALSE\n41. TRUE\n42. FALSE\n43. FALSE\n44. FALSE\n45. FALSE\n46. FALSE\n47. FALSE\n48. FALSE\n49. FALSE\n50. TRUE\n51. FALSE\n52. FALSE\n53. TRUE\n54. FALSE\n55. FALSE\n56. FALSE\n57. FALSE\n58. FALSE\n59. FALSE\n60. TRUE\n61. FALSE\n62. FALSE\n63. FALSE\n64. FALSE\n65. TRUE\n66. FALSE\n67. FALSE\n68. FALSE\n69. FALSE\n70. FALSE\n71. TRUE\n72. FALSE\n73. FALSE\n74. FALSE\n75. TRUE\n76. FALSE\n77. FALSE\n78. FALSE\n79. FALSE\n80. FALSE\n81. FALSE\n82. FALSE\n83. FALSE\n84. FALSE\n85. FALSE\n86. FALSE\n87. FALSE\n88. FALSE\n89. FALSE\n90. FALSE\n91. FALSE\n92. FALSE\n93. FALSE\n94. FALSE\n95. TRUE\n96. FALSE\n97. TRUE\n98. FALSE\n99. FALSE\n100. FALSE\n101. FALSE\n102. FALSE\n103. TRUE\n104. FALSE\n105. FALSE\n106. FALSE\n107. FALSE\n108. FALSE\n109. FALSE\n110. FALSE\n111. FALSE\n112. FALSE\n113. FALSE\n114. FALSE\n115. FALSE\n116. TRUE\n117. FALSE\n118. FALSE\n119. FALSE\n120. FALSE\n121. TRUE\n122. FALSE\n123. FALSE\n124. FALSE\n125. FALSE\n126. FALSE\n127. FALSE\n128. FALSE\n129. FALSE\n130. FALSE\n131. FALSE\n132. FALSE\n133. FALSE\n134. FALSE\n135. FALSE\n136. FALSE\n137. FALSE\n138. FALSE\n139. TRUE\n140. FALSE\n141. FALSE\n142. FALSE\n143. FALSE\n144. FALSE\n145. FALSE\n146. FALSE\n147. FALSE\n148. FALSE\n149. FALSE\n150. FALSE\n151. FALSE\n152. FALSE\n153. TRUE\n154. FALSE\n155. FALSE\n156. TRUE\n157. FALSE\n158. FALSE\n159. FALSE\n160. FALSE\n161. FALSE\n162. FALSE\n163. FALSE\n164. FALSE\n165. FALSE\n166. FALSE\n167. FALSE\n168. FALSE\n169. FALSE\n170. FALSE\n171. FALSE\n172. FALSE\n173. TRUE\n174. FALSE\n175. FALSE\n176. FALSE\n177. TRUE\n178. FALSE\n179. FALSE\n180. FALSE\n181. FALSE\n182. FALSE\n183. FALSE\n184. FALSE\n185. FALSE\n186. FALSE\n187. FALSE\n188. FALSE\n189. FALSE\n190. FALSE\n191. FALSE\n192. FALSE\n193. FALSE\n194. FALSE\n195. FALSE\n196. FALSE\n197. FALSE\n198. FALSE\n199. FALSE\n200. FALSE\n\n\n",
            "text/html": [
              "<style>\n",
              ".list-inline {list-style: none; margin:0; padding: 0}\n",
              ".list-inline>li {display: inline-block}\n",
              ".list-inline>li:not(:last-child)::after {content: \"\\00b7\"; padding: 0 .5ex}\n",
              "</style>\n",
              "<ol class=list-inline><li>FALSE</li><li>TRUE</li><li>FALSE</li><li>TRUE</li><li>FALSE</li><li>FALSE</li><li>FALSE</li><li>FALSE</li><li>FALSE</li><li>FALSE</li><li>FALSE</li><li>FALSE</li><li>FALSE</li><li>FALSE</li><li>FALSE</li><li>TRUE</li><li>FALSE</li><li>FALSE</li><li>FALSE</li><li>TRUE</li><li>FALSE</li><li>FALSE</li><li>FALSE</li><li>TRUE</li><li>FALSE</li><li>FALSE</li><li>FALSE</li><li>FALSE</li><li>FALSE</li><li>FALSE</li><li>FALSE</li><li>FALSE</li><li>FALSE</li><li>FALSE</li><li>FALSE</li><li>FALSE</li><li>FALSE</li><li>FALSE</li><li>FALSE</li><li>FALSE</li><li>TRUE</li><li>FALSE</li><li>FALSE</li><li>FALSE</li><li>FALSE</li><li>FALSE</li><li>FALSE</li><li>FALSE</li><li>FALSE</li><li>TRUE</li><li>FALSE</li><li>FALSE</li><li>TRUE</li><li>FALSE</li><li>FALSE</li><li>FALSE</li><li>FALSE</li><li>FALSE</li><li>FALSE</li><li>TRUE</li><li>FALSE</li><li>FALSE</li><li>FALSE</li><li>FALSE</li><li>TRUE</li><li>FALSE</li><li>FALSE</li><li>FALSE</li><li>FALSE</li><li>FALSE</li><li>TRUE</li><li>FALSE</li><li>FALSE</li><li>FALSE</li><li>TRUE</li><li>FALSE</li><li>FALSE</li><li>FALSE</li><li>FALSE</li><li>FALSE</li><li>FALSE</li><li>FALSE</li><li>FALSE</li><li>FALSE</li><li>FALSE</li><li>FALSE</li><li>FALSE</li><li>FALSE</li><li>FALSE</li><li>FALSE</li><li>FALSE</li><li>FALSE</li><li>FALSE</li><li>FALSE</li><li>TRUE</li><li>FALSE</li><li>TRUE</li><li>FALSE</li><li>FALSE</li><li>FALSE</li><li>FALSE</li><li>FALSE</li><li>TRUE</li><li>FALSE</li><li>FALSE</li><li>FALSE</li><li>FALSE</li><li>FALSE</li><li>FALSE</li><li>FALSE</li><li>FALSE</li><li>FALSE</li><li>FALSE</li><li>FALSE</li><li>FALSE</li><li>TRUE</li><li>FALSE</li><li>FALSE</li><li>FALSE</li><li>FALSE</li><li>TRUE</li><li>FALSE</li><li>FALSE</li><li>FALSE</li><li>FALSE</li><li>FALSE</li><li>FALSE</li><li>FALSE</li><li>FALSE</li><li>FALSE</li><li>FALSE</li><li>FALSE</li><li>FALSE</li><li>FALSE</li><li>FALSE</li><li>FALSE</li><li>FALSE</li><li>FALSE</li><li>TRUE</li><li>FALSE</li><li>FALSE</li><li>FALSE</li><li>FALSE</li><li>FALSE</li><li>FALSE</li><li>FALSE</li><li>FALSE</li><li>FALSE</li><li>FALSE</li><li>FALSE</li><li>FALSE</li><li>FALSE</li><li>TRUE</li><li>FALSE</li><li>FALSE</li><li>TRUE</li><li>FALSE</li><li>FALSE</li><li>FALSE</li><li>FALSE</li><li>FALSE</li><li>FALSE</li><li>FALSE</li><li>FALSE</li><li>FALSE</li><li>FALSE</li><li>FALSE</li><li>FALSE</li><li>FALSE</li><li>FALSE</li><li>FALSE</li><li>FALSE</li><li>TRUE</li><li>FALSE</li><li>FALSE</li><li>FALSE</li><li>TRUE</li><li>FALSE</li><li>FALSE</li><li>FALSE</li><li>FALSE</li><li>FALSE</li><li>FALSE</li><li>FALSE</li><li>FALSE</li><li>FALSE</li><li>FALSE</li><li>FALSE</li><li>FALSE</li><li>FALSE</li><li>FALSE</li><li>FALSE</li><li>FALSE</li><li>FALSE</li><li>FALSE</li><li>FALSE</li><li>FALSE</li><li>FALSE</li><li>FALSE</li><li>FALSE</li></ol>\n"
            ]
          },
          "metadata": {
            "tags": []
          }
        }
      ]
    },
    {
      "cell_type": "code",
      "metadata": {
        "id": "Tp1De6mgk9Y-"
      },
      "source": [
        "# 2. Verificamos si la cantidad total de preferencias es mayor a 3\n",
        "rowSums(preferencias) > 3"
      ],
      "execution_count": null,
      "outputs": []
    },
    {
      "cell_type": "code",
      "metadata": {
        "id": "KDZFAjXOk910"
      },
      "source": [
        "# 3. Transformamos el vector booleano (TRUE/FALSE) a numérico\n",
        "cliente_variado <- as.numeric(rowSums(preferencias) > 3)"
      ],
      "execution_count": 71,
      "outputs": []
    },
    {
      "cell_type": "markdown",
      "metadata": {
        "id": "KqTLTrn-V6SD"
      },
      "source": [
        "\n",
        "**P1.6** ¿Cuántos *cliente variados* fueron encuestados en total?\n"
      ]
    },
    {
      "cell_type": "code",
      "metadata": {
        "id": "zt0ByC0aW6_6",
        "outputId": "f9feed70-c787-4716-bb74-9daf5f74c163",
        "colab": {
          "base_uri": "https://localhost:8080/",
          "height": 34
        }
      },
      "source": [
        "head(cliente_variado)"
      ],
      "execution_count": 72,
      "outputs": [
        {
          "output_type": "display_data",
          "data": {
            "text/plain": [
              "[1] 0 1 0 1 0 0"
            ],
            "text/latex": "\\begin{enumerate*}\n\\item 0\n\\item 1\n\\item 0\n\\item 1\n\\item 0\n\\item 0\n\\end{enumerate*}\n",
            "text/markdown": "1. 0\n2. 1\n3. 0\n4. 1\n5. 0\n6. 0\n\n\n",
            "text/html": [
              "<style>\n",
              ".list-inline {list-style: none; margin:0; padding: 0}\n",
              ".list-inline>li {display: inline-block}\n",
              ".list-inline>li:not(:last-child)::after {content: \"\\00b7\"; padding: 0 .5ex}\n",
              "</style>\n",
              "<ol class=list-inline><li>0</li><li>1</li><li>0</li><li>1</li><li>0</li><li>0</li></ol>\n"
            ]
          },
          "metadata": {
            "tags": []
          }
        }
      ]
    },
    {
      "cell_type": "code",
      "metadata": {
        "id": "LxMz8jxrlPG1"
      },
      "source": [
        "?as.matrix"
      ],
      "execution_count": 68,
      "outputs": []
    },
    {
      "cell_type": "code",
      "metadata": {
        "id": "9rJKtL8mlU1J"
      },
      "source": [
        "cliente_variado <- as.matrix(cliente_variado)"
      ],
      "execution_count": 73,
      "outputs": []
    },
    {
      "cell_type": "code",
      "metadata": {
        "id": "0ML5u3unljAs"
      },
      "source": [
        "cliente_variado"
      ],
      "execution_count": null,
      "outputs": []
    },
    {
      "cell_type": "code",
      "metadata": {
        "id": "syXrZynplmy9",
        "outputId": "dda8d1b5-a2cb-494e-8388-015ad0c43631",
        "colab": {
          "base_uri": "https://localhost:8080/",
          "height": 34
        }
      },
      "source": [
        "# Sumar!\n",
        "sum(cliente_variado)\n",
        "# R: 22 clientes tuvieron una preferencia de más de 3 productos"
      ],
      "execution_count": 75,
      "outputs": [
        {
          "output_type": "display_data",
          "data": {
            "text/plain": [
              "[1] 22"
            ],
            "text/latex": "22",
            "text/markdown": "22",
            "text/html": [
              "22"
            ]
          },
          "metadata": {
            "tags": []
          }
        }
      ]
    },
    {
      "cell_type": "markdown",
      "metadata": {
        "id": "848TLmiHWDGI"
      },
      "source": [
        "\n",
        "**P1.7**  ¿Cuál es el producto con mayor cantidad de preferencias?"
      ]
    },
    {
      "cell_type": "code",
      "metadata": {
        "id": "TvycbLHUW7Uc",
        "outputId": "90db90f2-66ca-40b0-b0a0-6319e055060e",
        "colab": {
          "base_uri": "https://localhost:8080/",
          "height": 52
        }
      },
      "source": [
        "# Sumamos a través de los productos (columnas)\n",
        "colSums(preferencias)\n",
        "\n",
        "# Cómo identifico el más preferido?\n",
        "# Alternativa\n",
        "which.max(colSums(preferencias))"
      ],
      "execution_count": 77,
      "outputs": [
        {
          "output_type": "display_data",
          "data": {
            "text/plain": [
              "producto1 producto2 producto3 producto4 producto5 \n",
              "       55        92       139       157        34 "
            ],
            "text/latex": "\\begin{description*}\n\\item[producto1] 55\n\\item[producto2] 92\n\\item[producto3] 139\n\\item[producto4] 157\n\\item[producto5] 34\n\\end{description*}\n",
            "text/markdown": "producto1\n:   55producto2\n:   92producto3\n:   139producto4\n:   157producto5\n:   34\n\n",
            "text/html": [
              "<style>\n",
              ".dl-inline {width: auto; margin:0; padding: 0}\n",
              ".dl-inline>dt, .dl-inline>dd {float: none; width: auto; display: inline-block}\n",
              ".dl-inline>dt::after {content: \":\\0020\"; padding-right: .5ex}\n",
              ".dl-inline>dt:not(:first-of-type) {padding-left: .5ex}\n",
              "</style><dl class=dl-inline><dt>producto1</dt><dd>55</dd><dt>producto2</dt><dd>92</dd><dt>producto3</dt><dd>139</dd><dt>producto4</dt><dd>157</dd><dt>producto5</dt><dd>34</dd></dl>\n"
            ]
          },
          "metadata": {
            "tags": []
          }
        },
        {
          "output_type": "display_data",
          "data": {
            "text/plain": [
              "producto4 \n",
              "        4 "
            ],
            "text/latex": "\\textbf{producto4:} 4",
            "text/markdown": "**producto4:** 4",
            "text/html": [
              "<strong>producto4:</strong> 4"
            ]
          },
          "metadata": {
            "tags": []
          }
        }
      ]
    },
    {
      "cell_type": "markdown",
      "metadata": {
        "id": "bKI40ZZKmDwo"
      },
      "source": [
        "El producto 4 es el más preferido, preferido por 157 personas y el producto menos preferido fue el 5, con 34 personas."
      ]
    }
  ]
}